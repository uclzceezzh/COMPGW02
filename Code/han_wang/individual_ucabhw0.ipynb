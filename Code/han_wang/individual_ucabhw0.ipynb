{
 "cells": [
  {
   "cell_type": "code",
   "execution_count": 1,
   "metadata": {
    "collapsed": true
   },
   "outputs": [],
   "source": [
    "from __future__ import print_function, division\n",
    "import time\n",
    "import numpy as np\n",
    "import pandas as pd\n",
    "import matplotlib.pyplot as plt"
   ]
  },
  {
   "cell_type": "code",
   "execution_count": 2,
   "metadata": {},
   "outputs": [
    {
     "name": "stdout",
     "output_type": "stream",
     "text": [
      "35.55 secs ==> pd.read_csv\n"
     ]
    }
   ],
   "source": [
    "t0 = time.time()\n",
    "df_train = pd.read_csv('./data/train.csv')\n",
    "print(\"%.2f secs ==> pd.read_csv\"%(time.time()-t0))\n",
    "#df_train.head(5)\n",
    "\n",
    "#type(df_train)\n"
   ]
  },
  {
   "cell_type": "code",
   "execution_count": 46,
   "metadata": {},
   "outputs": [
    {
     "data": {
      "text/plain": [
       "1793"
      ]
     },
     "execution_count": 46,
     "metadata": {},
     "output_type": "execute_result"
    }
   ],
   "source": [
    "num_click= df_train.where (df_train['click']>0)\n",
    "num_click['click'].count()"
   ]
  },
  {
   "cell_type": "code",
   "execution_count": 10,
   "metadata": {},
   "outputs": [
    {
     "data": {
      "text/plain": [
       "array([  2, 238,  40,   1, 216, 276,  80,  15, 333, 308, 298,  55,  79,\n",
       "       374,  27,  94, 183, 164, 134, 344,   0, 146, 106,   3, 394, 124,\n",
       "       201, 275,  65, 393, 253, 368, 359, 325, 395])"
      ]
     },
     "execution_count": 10,
     "metadata": {},
     "output_type": "execute_result"
    }
   ],
   "source": [
    "df_train['region'].unique()"
   ]
  },
  {
   "cell_type": "code",
   "execution_count": 48,
   "metadata": {},
   "outputs": [
    {
     "data": {
      "text/plain": [
       "2430981"
      ]
     },
     "execution_count": 48,
     "metadata": {},
     "output_type": "execute_result"
    }
   ],
   "source": [
    "df_train['advertiser'].count()"
   ]
  },
  {
   "cell_type": "code",
   "execution_count": 49,
   "metadata": {},
   "outputs": [
    {
     "data": {
      "text/plain": [
       "advertiser\n",
       "1458    385\n",
       "2259     43\n",
       "2261     36\n",
       "2821    131\n",
       "2997    217\n",
       "3358    202\n",
       "3386    320\n",
       "3427    272\n",
       "3476    187\n",
       "Name: click, dtype: int64"
      ]
     },
     "execution_count": 49,
     "metadata": {},
     "output_type": "execute_result"
    }
   ],
   "source": [
    "ad_group=df_train.groupby(df_train['advertiser'])\n",
    "Clicks = ad_group['click'].sum()\n",
    "Clicks"
   ]
  },
  {
   "cell_type": "code",
   "execution_count": 50,
   "metadata": {
    "collapsed": true
   },
   "outputs": [],
   "source": [
    "Bids = ad_group['bidid'].count()\n",
    "#Bids\n"
   ]
  },
  {
   "cell_type": "code",
   "execution_count": 51,
   "metadata": {
    "collapsed": true
   },
   "outputs": [],
   "source": [
    "Imps = ad_group['userid'].count()\n",
    "#Imps "
   ]
  },
  {
   "cell_type": "code",
   "execution_count": null,
   "metadata": {
    "collapsed": true
   },
   "outputs": [],
   "source": []
  },
  {
   "cell_type": "code",
   "execution_count": 52,
   "metadata": {
    "collapsed": true
   },
   "outputs": [],
   "source": [
    "win_df=df_train.where(df_train['bidprice'] >= df_train['payprice'])\n",
    "win=win_df['bidid'].count()\n",
    "total=df_train['bidid'].count()\n",
    "rate=win/total\n"
   ]
  },
  {
   "cell_type": "code",
   "execution_count": null,
   "metadata": {
    "collapsed": true
   },
   "outputs": [],
   "source": []
  },
  {
   "cell_type": "code",
   "execution_count": 53,
   "metadata": {
    "collapsed": true
   },
   "outputs": [],
   "source": [
    "#df_train.sort_values(by='advertiser',ascending=True)\n",
    "#df_train.sort_index(axis=1, ascending=False)\n",
    "#df1=df_train.sort_index(ascending=False)\n",
    "#df1.head(7)"
   ]
  },
  {
   "cell_type": "code",
   "execution_count": 54,
   "metadata": {
    "collapsed": true
   },
   "outputs": [],
   "source": [
    "Cost = (ad_group['payprice'].sum())/1000\n",
    "#Cost"
   ]
  },
  {
   "cell_type": "code",
   "execution_count": 55,
   "metadata": {
    "collapsed": true
   },
   "outputs": [],
   "source": [
    "CTR=Clicks/Imps\n",
    "#CTR"
   ]
  },
  {
   "cell_type": "code",
   "execution_count": 56,
   "metadata": {
    "collapsed": true
   },
   "outputs": [],
   "source": [
    "eCPC=(Cost)/Clicks\n",
    "#eCPC"
   ]
  },
  {
   "cell_type": "code",
   "execution_count": 57,
   "metadata": {
    "collapsed": true
   },
   "outputs": [],
   "source": [
    "CPM=Cost/Imps*1000\n",
    "#CPM"
   ]
  },
  {
   "cell_type": "code",
   "execution_count": 58,
   "metadata": {},
   "outputs": [
    {
     "data": {
      "text/html": [
       "<div>\n",
       "<style>\n",
       "    .dataframe thead tr:only-child th {\n",
       "        text-align: right;\n",
       "    }\n",
       "\n",
       "    .dataframe thead th {\n",
       "        text-align: left;\n",
       "    }\n",
       "\n",
       "    .dataframe tbody tr th {\n",
       "        vertical-align: top;\n",
       "    }\n",
       "</style>\n",
       "<table border=\"1\" class=\"dataframe\">\n",
       "  <thead>\n",
       "    <tr style=\"text-align: right;\">\n",
       "      <th></th>\n",
       "      <th>Bids</th>\n",
       "      <th>Imps</th>\n",
       "      <th>Clicks</th>\n",
       "      <th>Cost</th>\n",
       "      <th>CTR</th>\n",
       "      <th>CPM</th>\n",
       "      <th>eCPC</th>\n",
       "    </tr>\n",
       "    <tr>\n",
       "      <th>advertiser</th>\n",
       "      <th></th>\n",
       "      <th></th>\n",
       "      <th></th>\n",
       "      <th></th>\n",
       "      <th></th>\n",
       "      <th></th>\n",
       "      <th></th>\n",
       "    </tr>\n",
       "  </thead>\n",
       "  <tbody>\n",
       "    <tr>\n",
       "      <th>1458</th>\n",
       "      <td>492353.0</td>\n",
       "      <td>492353.0</td>\n",
       "      <td>385.0</td>\n",
       "      <td>33968.736</td>\n",
       "      <td>0.000782</td>\n",
       "      <td>68.992646</td>\n",
       "      <td>88.230483</td>\n",
       "    </tr>\n",
       "    <tr>\n",
       "      <th>2259</th>\n",
       "      <td>133673.0</td>\n",
       "      <td>133673.0</td>\n",
       "      <td>43.0</td>\n",
       "      <td>12428.238</td>\n",
       "      <td>0.000322</td>\n",
       "      <td>92.974931</td>\n",
       "      <td>289.028791</td>\n",
       "    </tr>\n",
       "    <tr>\n",
       "      <th>2261</th>\n",
       "      <td>110122.0</td>\n",
       "      <td>110122.0</td>\n",
       "      <td>36.0</td>\n",
       "      <td>9873.779</td>\n",
       "      <td>0.000327</td>\n",
       "      <td>89.662184</td>\n",
       "      <td>274.271639</td>\n",
       "    </tr>\n",
       "    <tr>\n",
       "      <th>2821</th>\n",
       "      <td>211366.0</td>\n",
       "      <td>211366.0</td>\n",
       "      <td>131.0</td>\n",
       "      <td>18828.044</td>\n",
       "      <td>0.000620</td>\n",
       "      <td>89.077922</td>\n",
       "      <td>143.725527</td>\n",
       "    </tr>\n",
       "    <tr>\n",
       "      <th>2997</th>\n",
       "      <td>49829.0</td>\n",
       "      <td>49829.0</td>\n",
       "      <td>217.0</td>\n",
       "      <td>3129.267</td>\n",
       "      <td>0.004355</td>\n",
       "      <td>62.800116</td>\n",
       "      <td>14.420585</td>\n",
       "    </tr>\n",
       "    <tr>\n",
       "      <th>3358</th>\n",
       "      <td>264956.0</td>\n",
       "      <td>264956.0</td>\n",
       "      <td>202.0</td>\n",
       "      <td>22447.231</td>\n",
       "      <td>0.000762</td>\n",
       "      <td>84.720599</td>\n",
       "      <td>111.124906</td>\n",
       "    </tr>\n",
       "    <tr>\n",
       "      <th>3386</th>\n",
       "      <td>455041.0</td>\n",
       "      <td>455041.0</td>\n",
       "      <td>320.0</td>\n",
       "      <td>34931.823</td>\n",
       "      <td>0.000703</td>\n",
       "      <td>76.766320</td>\n",
       "      <td>109.161947</td>\n",
       "    </tr>\n",
       "    <tr>\n",
       "      <th>3427</th>\n",
       "      <td>402806.0</td>\n",
       "      <td>402806.0</td>\n",
       "      <td>272.0</td>\n",
       "      <td>30458.711</td>\n",
       "      <td>0.000675</td>\n",
       "      <td>75.616329</td>\n",
       "      <td>111.980555</td>\n",
       "    </tr>\n",
       "    <tr>\n",
       "      <th>3476</th>\n",
       "      <td>310835.0</td>\n",
       "      <td>310835.0</td>\n",
       "      <td>187.0</td>\n",
       "      <td>23918.779</td>\n",
       "      <td>0.000602</td>\n",
       "      <td>76.950083</td>\n",
       "      <td>127.907909</td>\n",
       "    </tr>\n",
       "  </tbody>\n",
       "</table>\n",
       "</div>"
      ],
      "text/plain": [
       "                Bids      Imps  Clicks       Cost       CTR        CPM  \\\n",
       "advertiser                                                               \n",
       "1458        492353.0  492353.0   385.0  33968.736  0.000782  68.992646   \n",
       "2259        133673.0  133673.0    43.0  12428.238  0.000322  92.974931   \n",
       "2261        110122.0  110122.0    36.0   9873.779  0.000327  89.662184   \n",
       "2821        211366.0  211366.0   131.0  18828.044  0.000620  89.077922   \n",
       "2997         49829.0   49829.0   217.0   3129.267  0.004355  62.800116   \n",
       "3358        264956.0  264956.0   202.0  22447.231  0.000762  84.720599   \n",
       "3386        455041.0  455041.0   320.0  34931.823  0.000703  76.766320   \n",
       "3427        402806.0  402806.0   272.0  30458.711  0.000675  75.616329   \n",
       "3476        310835.0  310835.0   187.0  23918.779  0.000602  76.950083   \n",
       "\n",
       "                  eCPC  \n",
       "advertiser              \n",
       "1458         88.230483  \n",
       "2259        289.028791  \n",
       "2261        274.271639  \n",
       "2821        143.725527  \n",
       "2997         14.420585  \n",
       "3358        111.124906  \n",
       "3386        109.161947  \n",
       "3427        111.980555  \n",
       "3476        127.907909  "
      ]
     },
     "execution_count": 58,
     "metadata": {},
     "output_type": "execute_result"
    }
   ],
   "source": [
    "df=pd.DataFrame([Bids,Imps,Clicks,Cost,CTR,CPM,eCPC],['Bids','Imps','Clicks','Cost','CTR','CPM','eCPC'])\n",
    "df.T"
   ]
  },
  {
   "cell_type": "code",
   "execution_count": 59,
   "metadata": {
    "collapsed": true
   },
   "outputs": [],
   "source": [
    "#2259 and 2261"
   ]
  },
  {
   "cell_type": "code",
   "execution_count": 60,
   "metadata": {},
   "outputs": [
    {
     "data": {
      "text/plain": [
       "0.00032168051887815791"
      ]
     },
     "execution_count": 60,
     "metadata": {},
     "output_type": "execute_result"
    }
   ],
   "source": [
    "se_df=df_train[df_train.advertiser == 2259]\n",
    "#se_df.head(5)\n",
    "Clicks_se = se_df['click'].sum()\n",
    "Imps_se = se_df['userid'].count()\n",
    "CTR_se=Clicks_se/Imps_se\n",
    "CTR_se"
   ]
  },
  {
   "cell_type": "code",
   "execution_count": 61,
   "metadata": {},
   "outputs": [
    {
     "data": {
      "text/plain": [
       "0.00032691015419262273"
      ]
     },
     "execution_count": 61,
     "metadata": {},
     "output_type": "execute_result"
    }
   ],
   "source": [
    "se2_df=df_train[df_train.advertiser == 2261]\n",
    "#se_df.head(5)\n",
    "Clicks_se2 = se2_df['click'].sum()\n",
    "Imps_se2 = se2_df['userid'].count()\n",
    "CTR_se2=Clicks_se2/Imps_se2\n",
    "CTR_se2"
   ]
  },
  {
   "cell_type": "code",
   "execution_count": 62,
   "metadata": {},
   "outputs": [
    {
     "name": "stdout",
     "output_type": "stream",
     "text": [
      "nan\n",
      "nan\n",
      "0.000322489619865\n",
      "0.000296507145822\n",
      "0.000353596369744\n",
      "0.000339904826649\n",
      "nan\n"
     ]
    },
    {
     "name": "stderr",
     "output_type": "stream",
     "text": [
      "/Users/wanghan/anaconda3/lib/python3.6/site-packages/ipykernel_launcher.py:9: RuntimeWarning: invalid value encountered in long_scalars\n",
      "  if __name__ == '__main__':\n"
     ]
    }
   ],
   "source": [
    "\n",
    "wkd=[1,2,3,4,5,6,7]\n",
    "for weekday in wkd:\n",
    "\n",
    "    Week_df2=se2_df[se2_df.weekday==weekday]\n",
    "#Week1_df.head(5)\n",
    "#Week1_df\n",
    "    Click_week2=Week_df2['click'].sum()\n",
    "    Imps_week2=Week_df2['userid'].count()\n",
    "    Ctr_week2=Click_week2/Imps_week2\n",
    "    print(Ctr_week2)"
   ]
  },
  {
   "cell_type": "code",
   "execution_count": 142,
   "metadata": {},
   "outputs": [
    {
     "name": "stdout",
     "output_type": "stream",
     "text": [
      "0.000332581944496\n",
      "nan\n",
      "nan\n",
      "nan\n",
      "0.000272799192514\n",
      "0.000320755817344\n",
      "nan\n"
     ]
    },
    {
     "name": "stderr",
     "output_type": "stream",
     "text": [
      "/Users/wanghan/anaconda3/lib/python3.6/site-packages/ipykernel_launcher.py:10: RuntimeWarning: invalid value encountered in long_scalars\n",
      "  # Remove the CWD from sys.path while we load stuff.\n"
     ]
    }
   ],
   "source": [
    "se_df=df_train[df_train.advertiser == 2259]\n",
    "wkd=[1,2,3,4,5,6,7]\n",
    "for weekday in wkd:\n",
    "\n",
    "    Week_df=se_df[se_df.weekday==weekday]\n",
    "#Week1_df.head(5)\n",
    "#Week1_df\n",
    "    Click_week=Week_df['click'].sum()\n",
    "    Imps_week=Week_df['userid'].count()\n",
    "    Ctr_week=Click_week/Imps_week\n",
    "    print(Ctr_week)\n",
    "#week_CTR=pd.Series(Ctr_week,['1','2','3','4','5','6','7'])\n",
    "#week_CTR\n"
   ]
  },
  {
   "cell_type": "code",
   "execution_count": 133,
   "metadata": {
    "collapsed": true
   },
   "outputs": [],
   "source": [
    "week_CTR_1=[0.000332581944496,np.NaN,np.NaN,np.NaN, 0.000272799192514,0.000320755817344,np.NaN]\n",
    "week_CTR_2=[np.NaN,np.NaN,0.000322489619865,0.000296507145822,0.000353596369744,0.000339904826649,np.NaN]"
   ]
  },
  {
   "cell_type": "code",
   "execution_count": 134,
   "metadata": {},
   "outputs": [
    {
     "data": {
      "image/png": "[encoded data removed]",
      "text/plain": [
       "<matplotlib.figure.Figure at 0x15e54d9e8>"
      ]
     },
     "metadata": {},
     "output_type": "display_data"
    }
   ],
   "source": [
    "labels = ['2259', '2261']\n",
    "colors = ['rgba(67,67,67,1)', 'rgba(115,115,115,1)']\n",
    "x = [1,2,3,4,5,6,7] \n",
    "y1 = week_CTR_1\n",
    "y2 = week_CTR_2\n",
    "plt.plot(x,y1,'go-', linewidth=2)\n",
    "plt.plot(x,y2)\n",
    "\n",
    "plt.xlabel('Weekday')\n",
    "plt.ylabel('CTR')\n",
    "plt.show()"
   ]
  },
  {
   "cell_type": "code",
   "execution_count": 66,
   "metadata": {},
   "outputs": [
    {
     "name": "stderr",
     "output_type": "stream",
     "text": [
      "/Users/wanghan/anaconda3/lib/python3.6/site-packages/ipykernel_launcher.py:9: RuntimeWarning: invalid value encountered in long_scalars\n",
      "  if __name__ == '__main__':\n"
     ]
    }
   ],
   "source": [
    "hour=[0,1,2,3,4,5,6,7,8,9,10,11,12,13,14,15,16,17,18,19,20,21,22,23]\n",
    "for h in hour:\n",
    "\n",
    "    hour_df=se_df[se_df.hour==h]\n",
    "#Week1_df.head(5)\n",
    "#Week1_df\n",
    "    Click_h=hour_df['click'].sum()\n",
    "    Imps_h=hour_df['userid'].count()\n",
    "    Ctr_h=Click_h/Imps_h\n",
    "  #  print(Ctr_h)"
   ]
  },
  {
   "cell_type": "code",
   "execution_count": 67,
   "metadata": {
    "collapsed": true
   },
   "outputs": [],
   "source": [
    "hour_CTR_2=[0.000192566917004,0.000617093489664,0.000913659205116,0.00103896103896,0.0,0.0,0.0,0.00058858151854,0.000292568753657,0.0,0.000381194409149,0.000277354042435,0.0,0.000273635244219,0.000571755288736,0.000355871886121,0.000147026391237,0.000500709338229,0.000333277787035,0,0,0,0,0]"
   ]
  },
  {
   "cell_type": "code",
   "execution_count": null,
   "metadata": {
    "collapsed": true
   },
   "outputs": [],
   "source": []
  },
  {
   "cell_type": "code",
   "execution_count": 68,
   "metadata": {
    "collapsed": true
   },
   "outputs": [],
   "source": [
    "hour_CTR_1=[0.000106010813103,0.0,0.000780234070221,0.000470035252644,0.000324044069994,0.0,0.00064892926671,0.00063211125158,0.000187441424555,0.000121359223301,0.000517116558072,0.000432479186939,0.000443557329785,0.00053129316757,0.000198590010922,0.000198098256735,0.000201106083459,0.000349283967866,0.000611620795107,0.0,0.0,0,0,0]"
   ]
  },
  {
   "cell_type": "code",
   "execution_count": 69,
   "metadata": {},
   "outputs": [
    {
     "data": {
      "image/png": "[encoded data removed]",
      "text/plain": [
       "<matplotlib.figure.Figure at 0x11293d2e8>"
      ]
     },
     "metadata": {},
     "output_type": "display_data"
    }
   ],
   "source": [
    "labels = ['2259', '2261']\n",
    "colors = ['rgba(67,67,67,1)', 'rgba(115,115,115,1)']\n",
    "x = hour\n",
    "y1 = hour_CTR_1\n",
    "y2 = hour_CTR_2\n",
    "plt.plot(x,y1,'go-', label='2259', linewidth=2)\n",
    "plt.plot(x,y2)\n",
    "\n",
    "plt.xlabel('Hour')\n",
    "plt.ylabel('CTR')\n",
    "plt.show()\n",
    "plt.legend() "
   ]
  },
  {
   "cell_type": "code",
   "execution_count": 70,
   "metadata": {},
   "outputs": [
    {
     "data": {
      "text/plain": [
       "0.00031145548465512"
      ]
     },
     "execution_count": 70,
     "metadata": {},
     "output_type": "execute_result"
    }
   ],
   "source": [
    "#se_df=df_train[df_train.advertiser == 2259] se2_df 2261\n",
    "# os window 2259\n",
    "os_w=se_df.where(se_df['useragent'].str.contains('window')>0)\n",
    "\n",
    "Clicks_os_w = os_w['click'].sum()\n",
    "Imps_os_w = os_w['userid'].count()\n",
    "CTR_os_w=Clicks_os_w/Imps_os_w\n",
    "CTR_os_w"
   ]
  },
  {
   "cell_type": "code",
   "execution_count": 71,
   "metadata": {},
   "outputs": [
    {
     "data": {
      "text/plain": [
       "0.005076142131979695"
      ]
     },
     "execution_count": 71,
     "metadata": {},
     "output_type": "execute_result"
    }
   ],
   "source": [
    "#os android 2259\n",
    "os_and=se_df.where(se_df['useragent'].str.contains('android')>0)\n",
    "\n",
    "Clicks_os_and = os_and['click'].sum()\n",
    "Imps_os_and = os_and['userid'].count()\n",
    "CTR_os_and=Clicks_os_and/Imps_os_and\n",
    "CTR_os_and"
   ]
  },
  {
   "cell_type": "code",
   "execution_count": 72,
   "metadata": {},
   "outputs": [
    {
     "data": {
      "text/plain": [
       "0.0"
      ]
     },
     "execution_count": 72,
     "metadata": {},
     "output_type": "execute_result"
    }
   ],
   "source": [
    "#os ios 2259\n",
    "os_ios=se_df.where(se_df['useragent'].str.contains('ios')>0)\n",
    "\n",
    "Clicks_os_ios = os_ios['click'].sum()\n",
    "Imps_os_ios = os_ios['userid'].count()\n",
    "CTR_os_ios=Clicks_os_ios/Imps_os_ios\n",
    "CTR_os_ios"
   ]
  },
  {
   "cell_type": "code",
   "execution_count": 73,
   "metadata": {},
   "outputs": [
    {
     "data": {
      "text/plain": [
       "0.013888888888888888"
      ]
     },
     "execution_count": 73,
     "metadata": {},
     "output_type": "execute_result"
    }
   ],
   "source": [
    "#os linux 2259\n",
    "os_lin=se_df.where(se_df['useragent'].str.contains('linux')>0)\n",
    "\n",
    "Clicks_os_lin = os_lin['click'].sum()\n",
    "Imps_os_lin = os_lin['userid'].count()\n",
    "CTR_os_lin=Clicks_os_lin/Imps_os_lin\n",
    "CTR_os_lin"
   ]
  },
  {
   "cell_type": "code",
   "execution_count": 74,
   "metadata": {},
   "outputs": [
    {
     "data": {
      "text/plain": [
       "0.0"
      ]
     },
     "execution_count": 74,
     "metadata": {},
     "output_type": "execute_result"
    }
   ],
   "source": [
    "#os other 2259\n",
    "os_oth=se_df.where(se_df['useragent'].str.contains('other_')>0)\n",
    "\n",
    "Clicks_os_oth = os_oth['click'].sum()\n",
    "Imps_os_oth = os_oth['userid'].count()\n",
    "CTR_os_oth=Clicks_os_oth/Imps_os_oth\n",
    "CTR_os_oth"
   ]
  },
  {
   "cell_type": "code",
   "execution_count": 75,
   "metadata": {},
   "outputs": [
    {
     "data": {
      "text/plain": [
       "0.0"
      ]
     },
     "execution_count": 75,
     "metadata": {},
     "output_type": "execute_result"
    }
   ],
   "source": [
    "#os mac 2259\n",
    "os_mac=se_df.where(se_df['useragent'].str.contains('mac')>0)\n",
    "\n",
    "Clicks_os_mac= os_mac['click'].sum()\n",
    "Imps_os_mac = os_mac['userid'].count()\n",
    "CTR_os_mac=Clicks_os_mac/Imps_os_mac\n",
    "CTR_os_mac"
   ]
  },
  {
   "cell_type": "code",
   "execution_count": 76,
   "metadata": {},
   "outputs": [
    {
     "data": {
      "text/plain": [
       "0.00029237835645637433"
      ]
     },
     "execution_count": 76,
     "metadata": {},
     "output_type": "execute_result"
    }
   ],
   "source": [
    "# os window 2261\n",
    "os_w2=se2_df.where(se2_df['useragent'].str.contains('window')>0)\n",
    "\n",
    "Clicks_os_w2 = os_w2['click'].sum()\n",
    "Imps_os_w2 = os_w2['userid'].count()\n",
    "CTR_os_w2=Clicks_os_w2/Imps_os_w2\n",
    "CTR_os_w2"
   ]
  },
  {
   "cell_type": "code",
   "execution_count": 77,
   "metadata": {},
   "outputs": [
    {
     "data": {
      "text/plain": [
       "0.0019157088122605363"
      ]
     },
     "execution_count": 77,
     "metadata": {},
     "output_type": "execute_result"
    }
   ],
   "source": [
    "#os android 2261\n",
    "os_and2=se2_df.where(se2_df['useragent'].str.contains('android')>0)\n",
    "\n",
    "Clicks_os_and2 = os_and2['click'].sum()\n",
    "Imps_os_and2 = os_and2['userid'].count()\n",
    "CTR_os_and2=Clicks_os_and2/Imps_os_and2\n",
    "CTR_os_and2"
   ]
  },
  {
   "cell_type": "code",
   "execution_count": 78,
   "metadata": {},
   "outputs": [
    {
     "data": {
      "text/plain": [
       "0.0"
      ]
     },
     "execution_count": 78,
     "metadata": {},
     "output_type": "execute_result"
    }
   ],
   "source": [
    "#os ios 2261\n",
    "os_ios2=se2_df.where(se2_df['useragent'].str.contains('ios')>0)\n",
    "\n",
    "Clicks_os_ios2 = os_ios2['click'].sum()\n",
    "Imps_os_ios2 = os_ios2['userid'].count()\n",
    "CTR_os_ios2=Clicks_os_ios2/Imps_os_ios2\n",
    "CTR_os_ios2"
   ]
  },
  {
   "cell_type": "code",
   "execution_count": 79,
   "metadata": {},
   "outputs": [
    {
     "data": {
      "text/plain": [
       "0.0"
      ]
     },
     "execution_count": 79,
     "metadata": {},
     "output_type": "execute_result"
    }
   ],
   "source": [
    "#os linux 2261\n",
    "os_lin2=se2_df.where(se2_df['useragent'].str.contains('linux')>0)\n",
    "\n",
    "Clicks_os_lin2 = os_lin2['click'].sum()\n",
    "Imps_os_lin2= os_lin2['userid'].count()\n",
    "CTR_os_lin2=Clicks_os_lin2/Imps_os_lin2\n",
    "CTR_os_lin2"
   ]
  },
  {
   "cell_type": "code",
   "execution_count": 80,
   "metadata": {},
   "outputs": [
    {
     "data": {
      "text/plain": [
       "0.0"
      ]
     },
     "execution_count": 80,
     "metadata": {},
     "output_type": "execute_result"
    }
   ],
   "source": [
    "#os other 2261\n",
    "os_oth2=se2_df.where(se2_df['useragent'].str.contains('other_')>0)\n",
    "\n",
    "Clicks_os_oth2 = os_oth2['click'].sum()\n",
    "Imps_os_oth2 = os_oth2['userid'].count()\n",
    "CTR_os_oth2=Clicks_os_oth2/Imps_os_oth2\n",
    "CTR_os_oth2"
   ]
  },
  {
   "cell_type": "code",
   "execution_count": 81,
   "metadata": {},
   "outputs": [
    {
     "data": {
      "text/plain": [
       "0.0011961722488038277"
      ]
     },
     "execution_count": 81,
     "metadata": {},
     "output_type": "execute_result"
    }
   ],
   "source": [
    "#os mac 2261\n",
    "os_mac2=se2_df.where(se2_df['useragent'].str.contains('mac')>0)\n",
    "\n",
    "Clicks_os_mac2= os_mac2['click'].sum()\n",
    "Imps_os_mac2 = os_mac2['userid'].count()\n",
    "CTR_os_mac2=Clicks_os_mac2/Imps_os_mac2\n",
    "CTR_os_mac2"
   ]
  },
  {
   "cell_type": "code",
   "execution_count": 82,
   "metadata": {
    "collapsed": true
   },
   "outputs": [],
   "source": [
    "os_CTR_1=[CTR_os_and, CTR_os_ios, CTR_os_lin, CTR_os_mac,CTR_os_oth,CTR_os_w]\n",
    "os_CTR_2=[CTR_os_and2,CTR_os_ios2, CTR_os_lin2, CTR_os_mac2, CTR_os_oth2,CTR_os_w2]"
   ]
  },
  {
   "cell_type": "code",
   "execution_count": 83,
   "metadata": {},
   "outputs": [
    {
     "data": {
      "image/png": "[encoded data removed]",
      "text/plain": [
       "<matplotlib.figure.Figure at 0x1116b9e48>"
      ]
     },
     "metadata": {},
     "output_type": "display_data"
    }
   ],
   "source": [
    "labels = ['2259', '2261']\n",
    "colors = ['rgba(67,67,67,1)', 'rgba(115,115,115,1)']\n",
    "x = ['android','ios','linux','mac','other','windows']\n",
    "y1 = os_CTR_1\n",
    "y2 = os_CTR_2\n",
    "plt.plot(x,y1,'go-', label='2259', linewidth=2)\n",
    "plt.plot(x,y2)\n",
    "\n",
    "plt.xlabel('OS')\n",
    "plt.ylabel('CTR')\n",
    "plt.show()\n",
    "plt.legend() "
   ]
  },
  {
   "cell_type": "code",
   "execution_count": 84,
   "metadata": {},
   "outputs": [
    {
     "data": {
      "text/plain": [
       "0.00024610491641898413"
      ]
     },
     "execution_count": 84,
     "metadata": {},
     "output_type": "execute_result"
    }
   ],
   "source": [
    "#se_df=df_train[df_train.advertiser == 2259] se2_df 2261\n",
    "# br chrome 2259\n",
    "br_ch=se_df.where(se_df['useragent'].str.contains('chrome')>0)\n",
    "\n",
    "Clicks_br_ch = br_ch['click'].sum()\n",
    "Imps_br_ch = br_ch['userid'].count()\n",
    "CTR_br_ch=Clicks_br_ch/Imps_br_ch\n",
    "CTR_br_ch"
   ]
  },
  {
   "cell_type": "code",
   "execution_count": 85,
   "metadata": {},
   "outputs": [
    {
     "data": {
      "text/plain": [
       "0.0"
      ]
     },
     "execution_count": 85,
     "metadata": {},
     "output_type": "execute_result"
    }
   ],
   "source": [
    "# br firefox 2259\n",
    "br_fi=se_df.where(se_df['useragent'].str.contains('firefox')>0)\n",
    "\n",
    "Clicks_br_fi = br_fi['click'].sum()\n",
    "Imps_br_fi = br_fi['userid'].count()\n",
    "CTR_br_fi=Clicks_br_fi/Imps_br_fi\n",
    "CTR_br_fi"
   ]
  },
  {
   "cell_type": "code",
   "execution_count": 86,
   "metadata": {},
   "outputs": [
    {
     "data": {
      "text/plain": [
       "0.00036082267570059737"
      ]
     },
     "execution_count": 86,
     "metadata": {},
     "output_type": "execute_result"
    }
   ],
   "source": [
    "# br ie 2259\n",
    "br_ie=se_df.where(se_df['useragent'].str.contains('windows_ie')>0)\n",
    "\n",
    "Clicks_br_ie = br_ie['click'].sum()\n",
    "Imps_br_ie = br_ie['userid'].count()\n",
    "CTR_br_ie=Clicks_br_ie/Imps_br_ie\n",
    "CTR_br_ie\n"
   ]
  },
  {
   "cell_type": "code",
   "execution_count": 87,
   "metadata": {},
   "outputs": [
    {
     "data": {
      "text/plain": [
       "0.0"
      ]
     },
     "execution_count": 87,
     "metadata": {},
     "output_type": "execute_result"
    }
   ],
   "source": [
    "# br maxthon 2259\n",
    "br_ma=se_df.where(se_df['useragent'].str.contains('maxthon')>0)\n",
    "\n",
    "Clicks_br_ma= br_ma['click'].sum()\n",
    "Imps_br_ma = br_ma['userid'].count()\n",
    "CTR_br_ma=Clicks_br_ma/Imps_br_ma\n",
    "CTR_br_ma"
   ]
  },
  {
   "cell_type": "code",
   "execution_count": 88,
   "metadata": {},
   "outputs": [
    {
     "data": {
      "text/plain": [
       "0.0"
      ]
     },
     "execution_count": 88,
     "metadata": {},
     "output_type": "execute_result"
    }
   ],
   "source": [
    "# br opera 2259\n",
    "br_op=se_df.where(se_df['useragent'].str.contains('opera')>0)\n",
    "\n",
    "Clicks_br_op= br_op['click'].sum()\n",
    "Imps_br_op = br_op['userid'].count()\n",
    "CTR_br_op=Clicks_br_op/Imps_br_op\n",
    "CTR_br_op"
   ]
  },
  {
   "cell_type": "code",
   "execution_count": 89,
   "metadata": {},
   "outputs": [
    {
     "data": {
      "text/plain": [
       "0.0014388489208633094"
      ]
     },
     "execution_count": 89,
     "metadata": {},
     "output_type": "execute_result"
    }
   ],
   "source": [
    "# br other 2259\n",
    "br_ot=se_df.where(se_df['useragent'].str.contains('_other')>0)\n",
    "\n",
    "Clicks_br_ot= br_ot['click'].sum()\n",
    "Imps_br_ot = br_ot['userid'].count()\n",
    "CTR_br_ot=Clicks_br_ot/Imps_br_ot\n",
    "CTR_br_ot"
   ]
  },
  {
   "cell_type": "code",
   "execution_count": 90,
   "metadata": {},
   "outputs": [
    {
     "data": {
      "text/plain": [
       "0.00056369785794813977"
      ]
     },
     "execution_count": 90,
     "metadata": {},
     "output_type": "execute_result"
    }
   ],
   "source": [
    "# br safari 2259\n",
    "br_sa=se_df.where(se_df['useragent'].str.contains('safari')>0)\n",
    "\n",
    "Clicks_br_sa= br_sa['click'].sum()\n",
    "Imps_br_sa = br_sa['userid'].count()\n",
    "CTR_br_sa=Clicks_br_sa/Imps_br_sa\n",
    "CTR_br_sa"
   ]
  },
  {
   "cell_type": "code",
   "execution_count": 91,
   "metadata": {
    "collapsed": true
   },
   "outputs": [],
   "source": [
    "# br sogou 2259\n",
    "br_sog=se_df.where(se_df['useragent'].str.contains('sogou')>0)\n",
    "\n",
    "Clicks_br_sog= br_sog['click'].sum()\n",
    "Imps_br_sog = br_sog['userid'].count()\n",
    "#CTR_br_sog=Clicks_br_sog/Imps_br_sog\n",
    "CTR_br_sog=0.0"
   ]
  },
  {
   "cell_type": "code",
   "execution_count": 92,
   "metadata": {},
   "outputs": [
    {
     "data": {
      "text/plain": [
       "0.0"
      ]
     },
     "execution_count": 92,
     "metadata": {},
     "output_type": "execute_result"
    }
   ],
   "source": [
    "# br theworld 2259\n",
    "br_th=se_df.where(se_df['useragent'].str.contains('theworld')>0)\n",
    "\n",
    "Clicks_br_th= br_th['click'].sum()\n",
    "Imps_br_th = br_th['userid'].count()\n",
    "CTR_br_th=Clicks_br_th/Imps_br_th\n",
    "CTR_br_th"
   ]
  },
  {
   "cell_type": "code",
   "execution_count": 93,
   "metadata": {},
   "outputs": [
    {
     "data": {
      "text/plain": [
       "0.00013059262935199937"
      ]
     },
     "execution_count": 93,
     "metadata": {},
     "output_type": "execute_result"
    }
   ],
   "source": [
    "# br chrome 2261\n",
    "br_ch2=se2_df.where(se2_df['useragent'].str.contains('chrome')>0)\n",
    "\n",
    "Clicks_br_ch2 = br_ch2['click'].sum()\n",
    "Imps_br_ch2 = br_ch2['userid'].count()\n",
    "CTR_br_ch2=Clicks_br_ch2/Imps_br_ch2\n",
    "CTR_br_ch2"
   ]
  },
  {
   "cell_type": "code",
   "execution_count": 94,
   "metadata": {},
   "outputs": [
    {
     "data": {
      "text/plain": [
       "0.00086655112651646442"
      ]
     },
     "execution_count": 94,
     "metadata": {},
     "output_type": "execute_result"
    }
   ],
   "source": [
    "# br firefox 2261\n",
    "br_fi2=se2_df.where(se2_df['useragent'].str.contains('firefox')>0)\n",
    "\n",
    "Clicks_br_fi2 = br_fi2['click'].sum()\n",
    "Imps_br_fi2= br_fi2['userid'].count()\n",
    "CTR_br_fi2=Clicks_br_fi2/Imps_br_fi2\n",
    "CTR_br_fi2"
   ]
  },
  {
   "cell_type": "code",
   "execution_count": 95,
   "metadata": {},
   "outputs": [
    {
     "data": {
      "text/plain": [
       "0.00038256717879659667"
      ]
     },
     "execution_count": 95,
     "metadata": {},
     "output_type": "execute_result"
    }
   ],
   "source": [
    "# br ie 2261\n",
    "br_ie2=se2_df.where(se2_df['useragent'].str.contains('windows_ie')>0)\n",
    "\n",
    "Clicks_br_ie2 = br_ie2['click'].sum()\n",
    "Imps_br_ie2 = br_ie2['userid'].count()\n",
    "CTR_br_ie2=Clicks_br_ie2/Imps_br_ie2\n",
    "CTR_br_ie2"
   ]
  },
  {
   "cell_type": "code",
   "execution_count": null,
   "metadata": {
    "collapsed": true
   },
   "outputs": [],
   "source": []
  },
  {
   "cell_type": "code",
   "execution_count": 96,
   "metadata": {},
   "outputs": [
    {
     "data": {
      "text/plain": [
       "0.0"
      ]
     },
     "execution_count": 96,
     "metadata": {},
     "output_type": "execute_result"
    }
   ],
   "source": [
    "# br maxthon 2261\n",
    "br_ma2=se2_df.where(se2_df['useragent'].str.contains('maxthon')>0)\n",
    "\n",
    "Clicks_br_ma2= br_ma2['click'].sum()\n",
    "Imps_br_ma2 = br_ma2['userid'].count()\n",
    "CTR_br_ma2=Clicks_br_ma2/Imps_br_ma2\n",
    "CTR_br_ma2"
   ]
  },
  {
   "cell_type": "code",
   "execution_count": 97,
   "metadata": {},
   "outputs": [
    {
     "data": {
      "text/plain": [
       "0.0"
      ]
     },
     "execution_count": 97,
     "metadata": {},
     "output_type": "execute_result"
    }
   ],
   "source": [
    "# br opera 2261\n",
    "br_op2=se2_df.where(se2_df['useragent'].str.contains('opera')>0)\n",
    "\n",
    "Clicks_br_op2= br_op2['click'].sum()\n",
    "Imps_br_op2 = br_op2['userid'].count()\n",
    "CTR_br_op2=Clicks_br_op2/Imps_br_op2\n",
    "CTR_br_op2"
   ]
  },
  {
   "cell_type": "code",
   "execution_count": 98,
   "metadata": {},
   "outputs": [
    {
     "data": {
      "text/plain": [
       "0.0012048192771084338"
      ]
     },
     "execution_count": 98,
     "metadata": {},
     "output_type": "execute_result"
    }
   ],
   "source": [
    "# br other 2261\n",
    "br_ot2=se2_df.where(se2_df['useragent'].str.contains('_other')>0)\n",
    "\n",
    "Clicks_br_ot2= br_ot2['click'].sum()\n",
    "Imps_br_ot2 = br_ot2['userid'].count()\n",
    "CTR_br_ot2=Clicks_br_ot2/Imps_br_ot2\n",
    "CTR_br_ot2"
   ]
  },
  {
   "cell_type": "code",
   "execution_count": 99,
   "metadata": {},
   "outputs": [
    {
     "data": {
      "text/plain": [
       "0.0011074197120708748"
      ]
     },
     "execution_count": 99,
     "metadata": {},
     "output_type": "execute_result"
    }
   ],
   "source": [
    "# br safari 2261\n",
    "br_sa2=se2_df.where(se2_df['useragent'].str.contains('safari')>0)\n",
    "\n",
    "Clicks_br_sa2= br_sa2['click'].sum()\n",
    "Imps_br_sa2 = br_sa2['userid'].count()\n",
    "CTR_br_sa2=Clicks_br_sa2/Imps_br_sa2\n",
    "CTR_br_sa2"
   ]
  },
  {
   "cell_type": "code",
   "execution_count": 100,
   "metadata": {},
   "outputs": [
    {
     "data": {
      "text/plain": [
       "0.0"
      ]
     },
     "execution_count": 100,
     "metadata": {},
     "output_type": "execute_result"
    }
   ],
   "source": [
    "# br sogou 2261\n",
    "br_sog2=se2_df.where(se2_df['useragent'].str.contains('sogou')>0)\n",
    "\n",
    "Clicks_br_sog2= br_sog2['click'].sum()\n",
    "Imps_br_sog2 = br_sog2['userid'].count()\n",
    "CTR_br_sog2=Clicks_br_sog2/Imps_br_sog2\n",
    "CTR_br_sog2"
   ]
  },
  {
   "cell_type": "code",
   "execution_count": 101,
   "metadata": {},
   "outputs": [
    {
     "data": {
      "text/plain": [
       "0.0"
      ]
     },
     "execution_count": 101,
     "metadata": {},
     "output_type": "execute_result"
    }
   ],
   "source": [
    "# br theworld 2261\n",
    "br_th2=se2_df.where(se2_df['useragent'].str.contains('theworld')>0)\n",
    "\n",
    "Clicks_br_th2= br_th2['click'].sum()\n",
    "Imps_br_th2 = br_th2['userid'].count()\n",
    "CTR_br_th2=Clicks_br_th2/Imps_br_th2\n",
    "CTR_br_th2"
   ]
  },
  {
   "cell_type": "code",
   "execution_count": 102,
   "metadata": {
    "collapsed": true
   },
   "outputs": [],
   "source": [
    "br_CTR_1=[CTR_br_ch, CTR_br_fi, CTR_br_ie, CTR_br_ma,CTR_br_op,CTR_br_ot,CTR_br_sa,CTR_br_sog,CTR_br_th]\n",
    "br_CTR_2=[CTR_br_ch2, CTR_br_fi2, CTR_br_ie2, CTR_br_ma2,CTR_br_op2,CTR_br_ot2,CTR_br_sa2,CTR_br_sog2,CTR_br_th2]"
   ]
  },
  {
   "cell_type": "code",
   "execution_count": 103,
   "metadata": {},
   "outputs": [
    {
     "data": {
      "image/png": "[encoded data removed]",
      "text/plain": [
       "<matplotlib.figure.Figure at 0x10acafeb8>"
      ]
     },
     "metadata": {},
     "output_type": "display_data"
    }
   ],
   "source": [
    "labels = ['2259', '2261']\n",
    "colors = ['rgba(67,67,67,1)', 'rgba(115,115,115,1)']\n",
    "x = ['chrome','firefox','ie','maxthon','opera','other','safari','sogou','theworld']\n",
    "y1 = br_CTR_1\n",
    "y2 = br_CTR_2\n",
    "plt.plot(x,y1,'go-', label='2259', linewidth=2)\n",
    "plt.plot(x,y2)\n",
    "\n",
    "plt.xlabel('Browser')\n",
    "plt.ylabel('CTR')\n",
    "plt.show()\n",
    "plt.legend() "
   ]
  },
  {
   "cell_type": "code",
   "execution_count": 104,
   "metadata": {},
   "outputs": [
    {
     "data": {
      "text/plain": [
       "0.0001069541594472609"
      ]
     },
     "execution_count": 104,
     "metadata": {},
     "output_type": "execute_result"
    }
   ],
   "source": [
    "#se_df=df_train[df_train.advertiser == 2259] se2_df 2261\n",
    "# ad 1 2259\n",
    "ad_1=se_df.where(se_df['adexchange'].str.contains('1')>0)\n",
    "\n",
    "Clicks_ad_1 = ad_1['click'].sum()\n",
    "Imps_ad_1 = ad_1['userid'].count()\n",
    "CTR_ad_1=Clicks_ad_1/Imps_ad_1\n",
    "CTR_ad_1"
   ]
  },
  {
   "cell_type": "code",
   "execution_count": 105,
   "metadata": {},
   "outputs": [
    {
     "data": {
      "text/plain": [
       "0.00019330727264916877"
      ]
     },
     "execution_count": 105,
     "metadata": {},
     "output_type": "execute_result"
    }
   ],
   "source": [
    "# ad 2 2259\n",
    "ad_2=se_df.where(se_df['adexchange'].str.contains('2')>0)\n",
    "\n",
    "Clicks_ad_2 = ad_2['click'].sum()\n",
    "Imps_ad_2 = ad_2['userid'].count()\n",
    "CTR_ad_2=Clicks_ad_2/Imps_ad_2\n",
    "CTR_ad_2"
   ]
  },
  {
   "cell_type": "code",
   "execution_count": 106,
   "metadata": {},
   "outputs": [
    {
     "data": {
      "text/plain": [
       "0.00071842639845414455"
      ]
     },
     "execution_count": 106,
     "metadata": {},
     "output_type": "execute_result"
    }
   ],
   "source": [
    "# ad 3 2259\n",
    "ad_3=se_df.where(se_df['adexchange'].str.contains('3')>0)\n",
    "\n",
    "Clicks_ad_3 = ad_3['click'].sum()\n",
    "Imps_ad_3 = ad_3['userid'].count()\n",
    "CTR_ad_3=Clicks_ad_3/Imps_ad_3\n",
    "CTR_ad_3"
   ]
  },
  {
   "cell_type": "code",
   "execution_count": 107,
   "metadata": {},
   "outputs": [
    {
     "data": {
      "text/plain": [
       "0.00033737243104950941"
      ]
     },
     "execution_count": 107,
     "metadata": {},
     "output_type": "execute_result"
    }
   ],
   "source": [
    "# ad 1 2261\n",
    "ad2_1=se2_df.where(se2_df['adexchange'].str.contains('1')>0)\n",
    "\n",
    "Clicks_ad2_1 = ad2_1['click'].sum()\n",
    "Imps_ad2_1 = ad2_1['userid'].count()\n",
    "CTR_ad2_1=Clicks_ad2_1/Imps_ad2_1\n",
    "CTR_ad2_1"
   ]
  },
  {
   "cell_type": "code",
   "execution_count": 108,
   "metadata": {},
   "outputs": [
    {
     "data": {
      "text/plain": [
       "0.00035302720831126912"
      ]
     },
     "execution_count": 108,
     "metadata": {},
     "output_type": "execute_result"
    }
   ],
   "source": [
    "# ad 2 2261\n",
    "ad2_2=se2_df.where(se2_df['adexchange'].str.contains('2')>0)\n",
    "\n",
    "Clicks_ad2_2 = ad2_2['click'].sum()\n",
    "Imps_ad2_2 = ad2_2['userid'].count()\n",
    "CTR_ad2_2=Clicks_ad2_2/Imps_ad2_2\n",
    "CTR_ad2_2"
   ]
  },
  {
   "cell_type": "code",
   "execution_count": 109,
   "metadata": {},
   "outputs": [
    {
     "data": {
      "text/plain": [
       "0.00028656579550664831"
      ]
     },
     "execution_count": 109,
     "metadata": {},
     "output_type": "execute_result"
    }
   ],
   "source": [
    "# ad 3 2261\n",
    "ad2_3=se2_df.where(se2_df['adexchange'].str.contains('3')>0)\n",
    "\n",
    "Clicks_ad2_3 = ad2_3['click'].sum()\n",
    "Imps_ad2_3 = ad2_3['userid'].count()\n",
    "CTR_ad2_3=Clicks_ad2_3/Imps_ad2_3\n",
    "CTR_ad2_3"
   ]
  },
  {
   "cell_type": "code",
   "execution_count": 110,
   "metadata": {
    "collapsed": true
   },
   "outputs": [],
   "source": [
    "ad_CTR_1=[CTR_ad_1,CTR_ad_2,CTR_ad_3]\n",
    "ad_CTR_2=[CTR_ad2_1,CTR_ad2_2,CTR_ad2_3]"
   ]
  },
  {
   "cell_type": "code",
   "execution_count": 111,
   "metadata": {},
   "outputs": [
    {
     "data": {
      "image/png": "[encoded data removed]",
      "text/plain": [
       "<matplotlib.figure.Figure at 0x10aca2ef0>"
      ]
     },
     "metadata": {},
     "output_type": "display_data"
    }
   ],
   "source": [
    "labels = ['2259', '2261']\n",
    "colors = ['rgba(67,67,67,1)', 'rgba(115,115,115,1)']\n",
    "x = ['1','2','3']\n",
    "y1 = ad_CTR_1\n",
    "y2 = ad_CTR_2\n",
    "plt.plot(x,y1,'go-', label='2259', linewidth=2)\n",
    "plt.plot(x,y2)\n",
    "\n",
    "plt.xlabel('Ad Exchange')\n",
    "plt.ylabel('CTR')\n",
    "plt.show()\n",
    "plt.legend()"
   ]
  },
  {
   "cell_type": "code",
   "execution_count": null,
   "metadata": {
    "collapsed": true
   },
   "outputs": [],
   "source": [
    "\n"
   ]
  },
  {
   "cell_type": "code",
   "execution_count": null,
   "metadata": {
    "collapsed": true
   },
   "outputs": [],
   "source": []
  },
  {
   "cell_type": "code",
   "execution_count": null,
   "metadata": {
    "collapsed": true
   },
   "outputs": [],
   "source": [
    "\n"
   ]
  },
  {
   "cell_type": "code",
   "execution_count": null,
   "metadata": {
    "collapsed": true
   },
   "outputs": [],
   "source": []
  },
  {
   "cell_type": "code",
   "execution_count": 143,
   "metadata": {},
   "outputs": [
    {
     "name": "stdout",
     "output_type": "stream",
     "text": [
      "7788.501\n",
      "0.0\n",
      "0.0\n",
      "0.0\n",
      "10565.508\n",
      "9884.998\n",
      "0.0\n"
     ]
    }
   ],
   "source": [
    "#weekday-price\n",
    "#se_df=df_train[df_train.advertiser == 2259]\n",
    "wkd=[1,2,3,4,5,6,7]\n",
    "for weekday in wkd:\n",
    "\n",
    "    Week_df=se_df[se_df.weekday==weekday]\n",
    "#Week1_df.head(5)\n",
    "#Week1_df\n",
    "    price= (Week_df['bidprice'].sum())/1000\n",
    "    print(price)\n"
   ]
  },
  {
   "cell_type": "code",
   "execution_count": 144,
   "metadata": {},
   "outputs": [
    {
     "name": "stdout",
     "output_type": "stream",
     "text": [
      "0.0\n",
      "0.0\n",
      "7152.158\n",
      "9710.781\n",
      "9756.291\n",
      "5082.469\n",
      "0.0\n"
     ]
    }
   ],
   "source": [
    "#se2_df=df_train[df_train.advertiser == 2261]\n",
    "wkd=[1,2,3,4,5,6,7]\n",
    "for weekday in wkd:\n",
    "\n",
    "    Week_df2=se2_df[se2_df.weekday==weekday]\n",
    "#Week1_df.head(5)\n",
    "#Week1_df\n",
    "    price= (Week_df2['bidprice'].sum())/1000\n",
    "    print(price)"
   ]
  },
  {
   "cell_type": "code",
   "execution_count": 114,
   "metadata": {
    "collapsed": true
   },
   "outputs": [],
   "source": [
    "week_price_1=[7788.501,0.0,0.0,0.0,10565.508,9884.998,0.0]\n",
    "week_price_2=[0.0,0.0,7152.158,9710.781,9756.291,5082.469,0.0]"
   ]
  },
  {
   "cell_type": "code",
   "execution_count": 145,
   "metadata": {},
   "outputs": [
    {
     "data": {
      "image/png": "[encoded data removed]",
      "text/plain": [
       "<matplotlib.figure.Figure at 0x11292a828>"
      ]
     },
     "metadata": {},
     "output_type": "display_data"
    }
   ],
   "source": [
    "labels = ['2259', '2261']\n",
    "colors = ['rgba(67,67,67,1)', 'rgba(115,115,115,1)']\n",
    "x = [1,2,3,4,5,6,7] \n",
    "y1 = week_price_1\n",
    "y2 = week_price_2\n",
    "plt.plot(x,y1,'go-', linewidth=2)\n",
    "plt.plot(x,y2)\n",
    "\n",
    "plt.xlabel('Weekday')\n",
    "plt.ylabel('Price')\n",
    "plt.show()"
   ]
  },
  {
   "cell_type": "code",
   "execution_count": 147,
   "metadata": {
    "collapsed": true
   },
   "outputs": [],
   "source": [
    "hour=[0,1,2,3,4,5,6,7,8,9,10,11,12,13,14,15,16,17,18,19,20,21,22,23]\n",
    "for h in hour:\n",
    "\n",
    "    hour_df2=se2_df[se2_df.hour==h]\n",
    "    price2= (hour_df2['bidprice'].sum())/1000\n",
    "   # print(price2)"
   ]
  },
  {
   "cell_type": "code",
   "execution_count": 148,
   "metadata": {
    "collapsed": true
   },
   "outputs": [],
   "source": [
    "hour_price_1=[787.059,396.629,272.42,298.636,217.473,230.23,247.7,263.501,480.993,716.14,984.867,975.297,959.214,973.364,987.2,954.822,969.154,855.237,478.906,376.831,2.565,0.0,0.0,0.0]\n",
    "hour_price_2=[447.839,260.313,175.05,154.882,89.48,90.447,84.904,167.16,337.705,490.671,710.356,680.108,672.493,673.118,786.91,1195.719,1172.663,1087.201,596.76,0.0,0.0,0.0,0.0,0.0]"
   ]
  },
  {
   "cell_type": "code",
   "execution_count": 149,
   "metadata": {
    "scrolled": true
   },
   "outputs": [
    {
     "data": {
      "image/png": "[encoded data removed]",
      "text/plain": [
       "<matplotlib.figure.Figure at 0x16da59940>"
      ]
     },
     "metadata": {},
     "output_type": "display_data"
    }
   ],
   "source": [
    "labels = ['2259', '2261']\n",
    "colors = ['rgba(67,67,67,1)', 'rgba(115,115,115,1)']\n",
    "x = [0,1,2,3,4,5,6,7,8,9,10,11,12,13,14,15,16,17,18,19,20,21,22,23]\n",
    "y1 = hour_price_1\n",
    "y2 = hour_price_2\n",
    "plt.plot(x,y1,'go-', linewidth=2)\n",
    "plt.plot(x,y2)\n",
    "\n",
    "plt.xlabel('Hour')\n",
    "plt.ylabel('Price')\n",
    "plt.show()"
   ]
  },
  {
   "cell_type": "code",
   "execution_count": 150,
   "metadata": {
    "collapsed": true
   },
   "outputs": [],
   "source": [
    "#se_df=df_train[df_train.advertiser == 2259] se2_df 2261\n",
    "# os window 2259\n",
    "os_w=se_df.where(se_df['useragent'].str.contains('window')>0)\n",
    "os_w_price= (os_w['bidprice'].sum())/(os_w['bidprice'].count())\n",
    "#os android 2259\n",
    "os_and=se_df.where(se_df['useragent'].str.contains('android')>0)\n",
    "os_and_price= (os_and['bidprice'].sum())/(os_and['bidprice'].count())\n",
    "#os ios 2259\n",
    "os_ios=se_df.where(se_df['useragent'].str.contains('ios')>0)\n",
    "os_ios_price= (os_ios['bidprice'].sum())/(os_ios['bidprice'].count())\n",
    "#os linux 2259\n",
    "os_lin=se_df.where(se_df['useragent'].str.contains('linux')>0)\n",
    "os_lin_price= (os_lin['bidprice'].sum())/(os_lin['bidprice'].count())\n",
    "#os other 2259\n",
    "os_oth=se_df.where(se_df['useragent'].str.contains('other_')>0)\n",
    "os_oth_price= (os_lin['payprice'].sum())/(os_lin['bidprice'].count())\n",
    "#os mac 2259\n",
    "os_mac=se_df.where(se_df['useragent'].str.contains('mac')>0)\n",
    "os_mac_price= (os_mac['payprice'].sum())/(os_mac['bidprice'].count())\n",
    "\n"
   ]
  },
  {
   "cell_type": "code",
   "execution_count": 151,
   "metadata": {
    "collapsed": true
   },
   "outputs": [],
   "source": [
    "# os window 2261\n",
    "os_w2=se2_df.where(se2_df['useragent'].str.contains('window')>0)\n",
    "os_w_price2= (os_w2['bidprice'].sum())/(os_w2['bidprice'].count())\n",
    "#os android 2261\n",
    "os_and2=se2_df.where(se2_df['useragent'].str.contains('android')>0)\n",
    "os_and_price2= (os_and2['bidprice'].sum())/(os_and2['bidprice'].count())\n",
    "#os ios 2261\n",
    "os_ios2=se2_df.where(se2_df['useragent'].str.contains('ios')>0)\n",
    "os_ios_price2= (os_ios2['bidprice'].sum())/(os_ios2['bidprice'].count())\n",
    "#os linux 2261\n",
    "os_lin2=se2_df.where(se2_df['useragent'].str.contains('linux')>0)\n",
    "os_lin_price2= (os_lin2['bidprice'].sum())/(os_lin2['bidprice'].count())\n",
    "#os other 2261\n",
    "os_oth2=se2_df.where(se2_df['useragent'].str.contains('other_')>0)\n",
    "os_oth_price2= (os_lin2['bidprice'].sum())/(os_lin2['bidprice'].count())\n",
    "#os mac 2261\n",
    "os_mac2=se2_df.where(se2_df['useragent'].str.contains('mac')>0)\n",
    "os_mac_price2= (os_mac2['bidprice'].sum())/(os_mac2['bidprice'].count())"
   ]
  },
  {
   "cell_type": "code",
   "execution_count": 152,
   "metadata": {
    "collapsed": true
   },
   "outputs": [],
   "source": [
    "os_price_1=[os_and_price, os_ios_price, os_lin_price, os_mac_price,os_oth_price,os_w_price]\n",
    "os_price_2=[os_and_price2, os_ios_price2, os_lin_price2, os_mac_price2,os_oth_price2,os_w_price2]"
   ]
  },
  {
   "cell_type": "code",
   "execution_count": 153,
   "metadata": {},
   "outputs": [
    {
     "data": {
      "image/png": "[encoded data removed]",
      "text/plain": [
       "<matplotlib.figure.Figure at 0x10d6ee748>"
      ]
     },
     "metadata": {},
     "output_type": "display_data"
    }
   ],
   "source": [
    "labels = ['2259', '2261']\n",
    "colors = ['rgba(67,67,67,1)', 'rgba(115,115,115,1)']\n",
    "x = ['android','ios','linux','mac','other','windows']\n",
    "y1 = os_price_1\n",
    "y2 = os_price_2\n",
    "plt.plot(x,y1,'go-', label='2259', linewidth=2)\n",
    "plt.plot(x,y2)\n",
    "\n",
    "plt.xlabel('OS')\n",
    "plt.ylabel('Price')\n",
    "plt.show()\n",
    "plt.legend() "
   ]
  },
  {
   "cell_type": "code",
   "execution_count": 154,
   "metadata": {
    "collapsed": true
   },
   "outputs": [],
   "source": [
    "#ad price\n",
    "# ad 1 2259\n",
    "ad_1=se_df.where(se_df['adexchange'].str.contains('1')>0)\n",
    "ad_1_price= (ad_1['bidprice'].sum())/(ad_1['bidprice'].count())\n",
    "# ad 2 2259\n",
    "ad_2=se_df.where(se_df['adexchange'].str.contains('2')>0)\n",
    "ad_2_price= (ad_2['bidprice'].sum())/(ad_2['bidprice'].count())\n",
    "# ad 3 2259\n",
    "ad_3=se_df.where(se_df['adexchange'].str.contains('3')>0)\n",
    "ad_3_price= (ad_3['bidprice'].sum())/(ad_3['bidprice'].count())\n",
    "# ad 1 2261\n",
    "ad2_1=se2_df.where(se2_df['adexchange'].str.contains('1')>0)\n",
    "ad2_1_price= (ad2_1['bidprice'].sum())/(ad2_1['bidprice'].count())\n",
    "# ad 2 2261\n",
    "ad2_2=se2_df.where(se2_df['adexchange'].str.contains('2')>0)\n",
    "ad2_2_price= (ad2_2['bidprice'].sum())/(ad2_2['bidprice'].count())\n",
    "# ad 3 2261\n",
    "ad2_3=se2_df.where(se2_df['adexchange'].str.contains('3')>0)\n",
    "ad2_3_price= (ad2_3['bidprice'].sum())/(ad2_3['bidprice'].count())\n"
   ]
  },
  {
   "cell_type": "code",
   "execution_count": 155,
   "metadata": {
    "collapsed": true
   },
   "outputs": [],
   "source": [
    "ad_price_1=[ad_1_price, ad_2_price, ad_3_price]\n",
    "ad_price_2=[ad2_1_price, ad2_2_price, ad2_3_price]"
   ]
  },
  {
   "cell_type": "code",
   "execution_count": 156,
   "metadata": {},
   "outputs": [
    {
     "data": {
      "image/png": "[encoded data removed]",
      "text/plain": [
       "<matplotlib.figure.Figure at 0x112f8f978>"
      ]
     },
     "metadata": {},
     "output_type": "display_data"
    }
   ],
   "source": [
    "labels = ['2259', '2261']\n",
    "colors = ['rgba(67,67,67,1)', 'rgba(115,115,115,1)']\n",
    "x = ['1','2','3']\n",
    "y1 = ad_price_1\n",
    "y2 = ad_price_2\n",
    "plt.plot(x,y1,'go-', label='2259', linewidth=2)\n",
    "plt.plot(x,y2)\n",
    "\n",
    "plt.xlabel('Ad Exchange')\n",
    "plt.ylabel('Price')\n",
    "plt.show()\n",
    "plt.legend() "
   ]
  },
  {
   "cell_type": "code",
   "execution_count": 126,
   "metadata": {},
   "outputs": [
    {
     "name": "stdout",
     "output_type": "stream",
     "text": [
      "3.48 secs ==> pd.read_csv\n"
     ]
    },
    {
     "data": {
      "text/html": [
       "<div>\n",
       "<style>\n",
       "    .dataframe thead tr:only-child th {\n",
       "        text-align: right;\n",
       "    }\n",
       "\n",
       "    .dataframe thead th {\n",
       "        text-align: left;\n",
       "    }\n",
       "\n",
       "    .dataframe tbody tr th {\n",
       "        vertical-align: top;\n",
       "    }\n",
       "</style>\n",
       "<table border=\"1\" class=\"dataframe\">\n",
       "  <thead>\n",
       "    <tr style=\"text-align: right;\">\n",
       "      <th></th>\n",
       "      <th>click</th>\n",
       "      <th>weekday</th>\n",
       "      <th>hour</th>\n",
       "      <th>bidid</th>\n",
       "      <th>userid</th>\n",
       "      <th>useragent</th>\n",
       "      <th>IP</th>\n",
       "      <th>region</th>\n",
       "      <th>city</th>\n",
       "      <th>adexchange</th>\n",
       "      <th>...</th>\n",
       "      <th>slotheight</th>\n",
       "      <th>slotvisibility</th>\n",
       "      <th>slotformat</th>\n",
       "      <th>slotprice</th>\n",
       "      <th>creative</th>\n",
       "      <th>bidprice</th>\n",
       "      <th>payprice</th>\n",
       "      <th>keypage</th>\n",
       "      <th>advertiser</th>\n",
       "      <th>usertag</th>\n",
       "    </tr>\n",
       "  </thead>\n",
       "  <tbody>\n",
       "    <tr>\n",
       "      <th>0</th>\n",
       "      <td>0</td>\n",
       "      <td>4</td>\n",
       "      <td>20</td>\n",
       "      <td>bbcb813b6166538503d8b33a5602d7d72f6019dc</td>\n",
       "      <td>663169f66491c98c69f1f94a5c48fa34aa9fe06f</td>\n",
       "      <td>windows_ie</td>\n",
       "      <td>211.144.203.*</td>\n",
       "      <td>79</td>\n",
       "      <td>79</td>\n",
       "      <td>1</td>\n",
       "      <td>...</td>\n",
       "      <td>600</td>\n",
       "      <td>2</td>\n",
       "      <td>1</td>\n",
       "      <td>0</td>\n",
       "      <td>cb7c76e7784031272e37af8e7e9b062c</td>\n",
       "      <td>300</td>\n",
       "      <td>23</td>\n",
       "      <td>bebefa5efe83beee17a3d245e7c5085b</td>\n",
       "      <td>1458</td>\n",
       "      <td>13866,10111</td>\n",
       "    </tr>\n",
       "    <tr>\n",
       "      <th>1</th>\n",
       "      <td>0</td>\n",
       "      <td>1</td>\n",
       "      <td>21</td>\n",
       "      <td>5a07316c49477cb5d9b4d5aa39c27d6c3be7f92d</td>\n",
       "      <td>a23f0cfab6592c137f796e68fa752fceba08bb1b</td>\n",
       "      <td>windows_chrome</td>\n",
       "      <td>58.247.250.*</td>\n",
       "      <td>79</td>\n",
       "      <td>79</td>\n",
       "      <td>1</td>\n",
       "      <td>...</td>\n",
       "      <td>90</td>\n",
       "      <td>0</td>\n",
       "      <td>1</td>\n",
       "      <td>0</td>\n",
       "      <td>c938195f9e404b4f38c7e71bf50263e5</td>\n",
       "      <td>238</td>\n",
       "      <td>75</td>\n",
       "      <td>a3becb967c015e9acb5e72f22b100ef8</td>\n",
       "      <td>3476</td>\n",
       "      <td>10075,10057,10024,10052,10083,10063,10006,10110</td>\n",
       "    </tr>\n",
       "    <tr>\n",
       "      <th>2</th>\n",
       "      <td>0</td>\n",
       "      <td>4</td>\n",
       "      <td>8</td>\n",
       "      <td>f6ece71dae81d6b16bfb24ad6dd5611472d4c673</td>\n",
       "      <td>5105a013ea54a9706146033e6a138d5234a3803e</td>\n",
       "      <td>windows_ie</td>\n",
       "      <td>117.12.111.*</td>\n",
       "      <td>2</td>\n",
       "      <td>2</td>\n",
       "      <td>2</td>\n",
       "      <td>...</td>\n",
       "      <td>250</td>\n",
       "      <td>2</td>\n",
       "      <td>0</td>\n",
       "      <td>5</td>\n",
       "      <td>911b2d84826786018761e8c0b0a3a60c</td>\n",
       "      <td>238</td>\n",
       "      <td>65</td>\n",
       "      <td>d29e59bf0f7f8243858b8183f14d4412</td>\n",
       "      <td>3358</td>\n",
       "      <td>13866,10024,10059,10063,13776,10083,10006,10111</td>\n",
       "    </tr>\n",
       "    <tr>\n",
       "      <th>3</th>\n",
       "      <td>0</td>\n",
       "      <td>5</td>\n",
       "      <td>15</td>\n",
       "      <td>b4d5c57c9b38ff5a12954fa01e11931b4e6bfbbb</td>\n",
       "      <td>577e9a768ce17e73c61ba7022db927f9ee761830</td>\n",
       "      <td>windows_chrome</td>\n",
       "      <td>61.187.224.*</td>\n",
       "      <td>201</td>\n",
       "      <td>205</td>\n",
       "      <td>2</td>\n",
       "      <td>...</td>\n",
       "      <td>280</td>\n",
       "      <td>2</td>\n",
       "      <td>0</td>\n",
       "      <td>5</td>\n",
       "      <td>dc0998c10f8f0b623b5d949e8272e4c7</td>\n",
       "      <td>238</td>\n",
       "      <td>6</td>\n",
       "      <td>d29e59bf0f7f8243858b8183f14d4412</td>\n",
       "      <td>3358</td>\n",
       "      <td>13866,10057,10006,10063,10110</td>\n",
       "    </tr>\n",
       "    <tr>\n",
       "      <th>4</th>\n",
       "      <td>0</td>\n",
       "      <td>1</td>\n",
       "      <td>18</td>\n",
       "      <td>0899bf144249458ea9c89188473694bf44c7ca15</td>\n",
       "      <td>e4bf79c562745d671b19f2edf7fda89c2e25987f</td>\n",
       "      <td>windows_chrome</td>\n",
       "      <td>117.41.145.*</td>\n",
       "      <td>134</td>\n",
       "      <td>135</td>\n",
       "      <td>2</td>\n",
       "      <td>...</td>\n",
       "      <td>200</td>\n",
       "      <td>1</td>\n",
       "      <td>0</td>\n",
       "      <td>5</td>\n",
       "      <td>23485fcd23122d755d38f8c89d46ca56</td>\n",
       "      <td>249</td>\n",
       "      <td>5</td>\n",
       "      <td>7e0e909ea89f707bc20f9585c9072081</td>\n",
       "      <td>3476</td>\n",
       "      <td>10006,10063,13776,10110</td>\n",
       "    </tr>\n",
       "  </tbody>\n",
       "</table>\n",
       "<p>5 rows × 25 columns</p>\n",
       "</div>"
      ],
      "text/plain": [
       "   click  weekday  hour                                     bidid  \\\n",
       "0      0        4    20  bbcb813b6166538503d8b33a5602d7d72f6019dc   \n",
       "1      0        1    21  5a07316c49477cb5d9b4d5aa39c27d6c3be7f92d   \n",
       "2      0        4     8  f6ece71dae81d6b16bfb24ad6dd5611472d4c673   \n",
       "3      0        5    15  b4d5c57c9b38ff5a12954fa01e11931b4e6bfbbb   \n",
       "4      0        1    18  0899bf144249458ea9c89188473694bf44c7ca15   \n",
       "\n",
       "                                     userid       useragent             IP  \\\n",
       "0  663169f66491c98c69f1f94a5c48fa34aa9fe06f      windows_ie  211.144.203.*   \n",
       "1  a23f0cfab6592c137f796e68fa752fceba08bb1b  windows_chrome   58.247.250.*   \n",
       "2  5105a013ea54a9706146033e6a138d5234a3803e      windows_ie   117.12.111.*   \n",
       "3  577e9a768ce17e73c61ba7022db927f9ee761830  windows_chrome   61.187.224.*   \n",
       "4  e4bf79c562745d671b19f2edf7fda89c2e25987f  windows_chrome   117.41.145.*   \n",
       "\n",
       "   region  city adexchange                       ...                         \\\n",
       "0      79    79          1                       ...                          \n",
       "1      79    79          1                       ...                          \n",
       "2       2     2          2                       ...                          \n",
       "3     201   205          2                       ...                          \n",
       "4     134   135          2                       ...                          \n",
       "\n",
       "  slotheight slotvisibility slotformat slotprice  \\\n",
       "0        600              2          1         0   \n",
       "1         90              0          1         0   \n",
       "2        250              2          0         5   \n",
       "3        280              2          0         5   \n",
       "4        200              1          0         5   \n",
       "\n",
       "                           creative  bidprice payprice  \\\n",
       "0  cb7c76e7784031272e37af8e7e9b062c       300       23   \n",
       "1  c938195f9e404b4f38c7e71bf50263e5       238       75   \n",
       "2  911b2d84826786018761e8c0b0a3a60c       238       65   \n",
       "3  dc0998c10f8f0b623b5d949e8272e4c7       238        6   \n",
       "4  23485fcd23122d755d38f8c89d46ca56       249        5   \n",
       "\n",
       "                            keypage  advertiser  \\\n",
       "0  bebefa5efe83beee17a3d245e7c5085b        1458   \n",
       "1  a3becb967c015e9acb5e72f22b100ef8        3476   \n",
       "2  d29e59bf0f7f8243858b8183f14d4412        3358   \n",
       "3  d29e59bf0f7f8243858b8183f14d4412        3358   \n",
       "4  7e0e909ea89f707bc20f9585c9072081        3476   \n",
       "\n",
       "                                           usertag  \n",
       "0                                      13866,10111  \n",
       "1  10075,10057,10024,10052,10083,10063,10006,10110  \n",
       "2  13866,10024,10059,10063,13776,10083,10006,10111  \n",
       "3                    13866,10057,10006,10063,10110  \n",
       "4                          10006,10063,13776,10110  \n",
       "\n",
       "[5 rows x 25 columns]"
      ]
     },
     "execution_count": 126,
     "metadata": {},
     "output_type": "execute_result"
    }
   ],
   "source": [
    "t0 = time.time()\n",
    "df_val = pd.read_csv('./data/validation.csv')\n",
    "print(\"%.2f secs ==> pd.read_csv\"%(time.time()-t0))\n",
    "df_val.head(5)"
   ]
  },
  {
   "cell_type": "code",
   "execution_count": null,
   "metadata": {
    "collapsed": true
   },
   "outputs": [],
   "source": []
  },
  {
   "cell_type": "code",
   "execution_count": 127,
   "metadata": {
    "collapsed": true
   },
   "outputs": [],
   "source": [
    "ad_group2=df_val.groupby(df_train['advertiser'])\n",
    "Clicks2 = ad_group2['click'].sum()\n",
    "Bids2 = ad_group2['bidid'].count()\n",
    "Imps2 = ad_group2['userid'].count()\n",
    "Cost2 = (ad_group2['payprice'].sum())/1000\n",
    "CTR2=Clicks2/Imps2\n",
    "eCPC2=(Cost2)/Clicks2\n",
    "CPM2=Cost2/Imps2*1000"
   ]
  },
  {
   "cell_type": "code",
   "execution_count": 128,
   "metadata": {},
   "outputs": [
    {
     "data": {
      "text/html": [
       "<div>\n",
       "<style>\n",
       "    .dataframe thead tr:only-child th {\n",
       "        text-align: right;\n",
       "    }\n",
       "\n",
       "    .dataframe thead th {\n",
       "        text-align: left;\n",
       "    }\n",
       "\n",
       "    .dataframe tbody tr th {\n",
       "        vertical-align: top;\n",
       "    }\n",
       "</style>\n",
       "<table border=\"1\" class=\"dataframe\">\n",
       "  <thead>\n",
       "    <tr style=\"text-align: right;\">\n",
       "      <th></th>\n",
       "      <th>Bids</th>\n",
       "      <th>Imps</th>\n",
       "      <th>Clicks</th>\n",
       "      <th>Cost</th>\n",
       "      <th>CTR</th>\n",
       "      <th>CPM</th>\n",
       "      <th>eCPC</th>\n",
       "    </tr>\n",
       "    <tr>\n",
       "      <th>advertiser</th>\n",
       "      <th></th>\n",
       "      <th></th>\n",
       "      <th></th>\n",
       "      <th></th>\n",
       "      <th></th>\n",
       "      <th></th>\n",
       "      <th></th>\n",
       "    </tr>\n",
       "  </thead>\n",
       "  <tbody>\n",
       "    <tr>\n",
       "      <th>1458</th>\n",
       "      <td>61302.0</td>\n",
       "      <td>61302.0</td>\n",
       "      <td>40.0</td>\n",
       "      <td>4808.549</td>\n",
       "      <td>0.000653</td>\n",
       "      <td>78.440328</td>\n",
       "      <td>120.213725</td>\n",
       "    </tr>\n",
       "    <tr>\n",
       "      <th>2259</th>\n",
       "      <td>16661.0</td>\n",
       "      <td>16661.0</td>\n",
       "      <td>11.0</td>\n",
       "      <td>1299.977</td>\n",
       "      <td>0.000660</td>\n",
       "      <td>78.025149</td>\n",
       "      <td>118.179727</td>\n",
       "    </tr>\n",
       "    <tr>\n",
       "      <th>2261</th>\n",
       "      <td>13939.0</td>\n",
       "      <td>13939.0</td>\n",
       "      <td>10.0</td>\n",
       "      <td>1083.644</td>\n",
       "      <td>0.000717</td>\n",
       "      <td>77.741875</td>\n",
       "      <td>108.364400</td>\n",
       "    </tr>\n",
       "    <tr>\n",
       "      <th>2821</th>\n",
       "      <td>26443.0</td>\n",
       "      <td>26443.0</td>\n",
       "      <td>21.0</td>\n",
       "      <td>2086.172</td>\n",
       "      <td>0.000794</td>\n",
       "      <td>78.893166</td>\n",
       "      <td>99.341524</td>\n",
       "    </tr>\n",
       "    <tr>\n",
       "      <th>2997</th>\n",
       "      <td>6330.0</td>\n",
       "      <td>6330.0</td>\n",
       "      <td>3.0</td>\n",
       "      <td>492.591</td>\n",
       "      <td>0.000474</td>\n",
       "      <td>77.818483</td>\n",
       "      <td>164.197000</td>\n",
       "    </tr>\n",
       "    <tr>\n",
       "      <th>3358</th>\n",
       "      <td>33327.0</td>\n",
       "      <td>33327.0</td>\n",
       "      <td>25.0</td>\n",
       "      <td>2623.255</td>\n",
       "      <td>0.000750</td>\n",
       "      <td>78.712605</td>\n",
       "      <td>104.930200</td>\n",
       "    </tr>\n",
       "    <tr>\n",
       "      <th>3386</th>\n",
       "      <td>56800.0</td>\n",
       "      <td>56800.0</td>\n",
       "      <td>36.0</td>\n",
       "      <td>4420.400</td>\n",
       "      <td>0.000634</td>\n",
       "      <td>77.823944</td>\n",
       "      <td>122.788889</td>\n",
       "    </tr>\n",
       "    <tr>\n",
       "      <th>3427</th>\n",
       "      <td>50510.0</td>\n",
       "      <td>50510.0</td>\n",
       "      <td>36.0</td>\n",
       "      <td>3947.731</td>\n",
       "      <td>0.000713</td>\n",
       "      <td>78.157414</td>\n",
       "      <td>109.659194</td>\n",
       "    </tr>\n",
       "    <tr>\n",
       "      <th>3476</th>\n",
       "      <td>38613.0</td>\n",
       "      <td>38613.0</td>\n",
       "      <td>20.0</td>\n",
       "      <td>3014.951</td>\n",
       "      <td>0.000518</td>\n",
       "      <td>78.081242</td>\n",
       "      <td>150.747550</td>\n",
       "    </tr>\n",
       "  </tbody>\n",
       "</table>\n",
       "</div>"
      ],
      "text/plain": [
       "               Bids     Imps  Clicks      Cost       CTR        CPM  \\\n",
       "advertiser                                                            \n",
       "1458        61302.0  61302.0    40.0  4808.549  0.000653  78.440328   \n",
       "2259        16661.0  16661.0    11.0  1299.977  0.000660  78.025149   \n",
       "2261        13939.0  13939.0    10.0  1083.644  0.000717  77.741875   \n",
       "2821        26443.0  26443.0    21.0  2086.172  0.000794  78.893166   \n",
       "2997         6330.0   6330.0     3.0   492.591  0.000474  77.818483   \n",
       "3358        33327.0  33327.0    25.0  2623.255  0.000750  78.712605   \n",
       "3386        56800.0  56800.0    36.0  4420.400  0.000634  77.823944   \n",
       "3427        50510.0  50510.0    36.0  3947.731  0.000713  78.157414   \n",
       "3476        38613.0  38613.0    20.0  3014.951  0.000518  78.081242   \n",
       "\n",
       "                  eCPC  \n",
       "advertiser              \n",
       "1458        120.213725  \n",
       "2259        118.179727  \n",
       "2261        108.364400  \n",
       "2821         99.341524  \n",
       "2997        164.197000  \n",
       "3358        104.930200  \n",
       "3386        122.788889  \n",
       "3427        109.659194  \n",
       "3476        150.747550  "
      ]
     },
     "execution_count": 128,
     "metadata": {},
     "output_type": "execute_result"
    }
   ],
   "source": [
    "df2=pd.DataFrame([Bids2,Imps2,Clicks2,Cost2,CTR2,CPM2,eCPC2],['Bids','Imps','Clicks','Cost','CTR','CPM','eCPC'])\n",
    "df2.T"
   ]
  },
  {
   "cell_type": "markdown",
   "metadata": {},
   "source": [
    "## Problem 4"
   ]
  },
  {
   "cell_type": "code",
   "execution_count": 13,
   "metadata": {
    "collapsed": true
   },
   "outputs": [],
   "source": [
    "def read_file(path):\n",
    "    t0 = time.time()\n",
    "    df = pd.read_csv(path, na_values=['null', 'Na'])\n",
    "    print(\"%.2f secs ==> pd.read_csv\"%(time.time()-t0))\n",
    "    df['useragent_1'] = df['useragent'].apply(lambda x: x.split('_')[0])\n",
    "    df['useragent_2'] = df['useragent'].apply(lambda x: x.split('_')[1])\n",
    "    return df"
   ]
  },
  {
   "cell_type": "code",
   "execution_count": 14,
   "metadata": {},
   "outputs": [
    {
     "name": "stdout",
     "output_type": "stream",
     "text": [
      "34.72 secs ==> pd.read_csv\n",
      "3.34 secs ==> pd.read_csv\n",
      "2.93 secs ==> pd.read_csv\n"
     ]
    }
   ],
   "source": [
    "df_train = read_file('./data/train.csv')\n",
    "#df_train.head(5)\n",
    "df_val = read_file('./data/validation.csv')\n",
    "#df_val.head(5)\n",
    "df_test = read_file('./data/test.csv')\n",
    "#df_test.head(5)"
   ]
  },
  {
   "cell_type": "code",
   "execution_count": 15,
   "metadata": {},
   "outputs": [
    {
     "name": "stderr",
     "output_type": "stream",
     "text": [
      "/Users/wanghan/anaconda3/lib/python3.6/site-packages/sklearn/cross_validation.py:41: DeprecationWarning: This module was deprecated in version 0.18 in favor of the model_selection module into which all the refactored classes and functions are moved. Also note that the interface of the new CV iterators are different from that of this module. This module will be removed in 0.20.\n",
      "  \"This module will be removed in 0.20.\", DeprecationWarning)\n"
     ]
    }
   ],
   "source": [
    "from sklearn.preprocessing import StandardScaler, LabelEncoder, OneHotEncoder\n",
    "from sklearn.linear_model import LogisticRegression\n",
    "from sklearn.cross_validation import KFold, cross_val_score\n",
    "from sklearn.metrics import confusion_matrix,recall_score,classification_report \n",
    "from sklearn.ensemble import GradientBoostingClassifier"
   ]
  },
  {
   "cell_type": "code",
   "execution_count": 16,
   "metadata": {
    "collapsed": true
   },
   "outputs": [],
   "source": [
    "def to_index(df, feature):\n",
    "    return LabelEncoder().fit_transform(df[feature].values)\n",
    "\n",
    "def to_one_hot(df, features):\n",
    "    return OneHotEncoder().fit_transform(df[features].values).toarray()\n",
    "\n",
    "def hour_fn(hour):\n",
    "    if hour <= 6:\n",
    "        return 0\n",
    "    if 6 < hour <= 12:\n",
    "        return 1\n",
    "    if 12 < hour <= 18:\n",
    "        return 2\n",
    "    if 18 < hour <= 24:\n",
    "        return 3\n",
    "\n",
    "def slot_width_fn(width):\n",
    "    if width <= 300:\n",
    "        return 0\n",
    "    if 300 < width <= 728:\n",
    "        return 1\n",
    "    if width > 728:\n",
    "        return 2\n",
    "\n",
    "def slot_height_fn(height):\n",
    "    if height <= 100:\n",
    "        return 0\n",
    "    if 100 < height <= 240:\n",
    "        return 1\n",
    "    if height > 240:\n",
    "        return 2\n",
    "\n",
    "def slot_height_fn(height):\n",
    "    if height <= 100:\n",
    "        return 0\n",
    "    if 100 < height <= 240:\n",
    "        return 1\n",
    "    if height > 240:\n",
    "        return 2\n",
    "    \n",
    "def city_fn(city):\n",
    "    if city <= 93:\n",
    "        return 0\n",
    "    if 93 < city <= 187:\n",
    "        return 1\n",
    "    if 187 < city <= 303:\n",
    "        return 2\n",
    "    if city > 303:\n",
    "        return 3\n",
    "\n",
    "def city_fn(city):\n",
    "    if city <= 93:\n",
    "        return 0\n",
    "    if 93 < city <= 187:\n",
    "        return 1\n",
    "    if 187 < city <= 303:\n",
    "        return 2\n",
    "    if city > 303:\n",
    "        return 3\n",
    "    \n",
    "def region_fn(region):\n",
    "    if region <= 65:\n",
    "        return 0\n",
    "    if 65 < region <= 183:\n",
    "        return 1\n",
    "    if 183 < region <= 325:\n",
    "        return 2\n",
    "    if region > 325:\n",
    "        return 3\n",
    "    \n",
    "def slot_price_fn(price):\n",
    "    if price <= 50:\n",
    "        return 0\n",
    "    if 50 < price <= 98:\n",
    "        return 1\n",
    "    if price > 98:\n",
    "        return 2\n",
    "    \n",
    "def preprocess(df):\n",
    "    df['hour'] = df['hour'].apply(hour_fn)\n",
    "    df['slotwidth'] = df['slotwidth'].apply(slot_width_fn)\n",
    "    df['slotheight'] = df['slotheight'].apply(slot_height_fn)\n",
    "    df['city'] = df['city'].apply(city_fn)\n",
    "    df['region'] = df['region'].apply(region_fn)\n",
    "    df['slotvisibility'] = df['slotvisibility'].apply(lambda x: str(x))\n",
    "    df['slotformat'] = df['slotformat'].apply(lambda x: str(x))\n",
    "    df['adexchange'] = df['adexchange'].apply(lambda x: str(x))\n",
    "    df['slotprice'] = df['slotprice'].apply(slot_price_fn)\n",
    "    \n",
    "    for feat in ['useragent_1', 'useragent_2', 'advertiser', 'slotvisibility', 'slotformat', 'adexchange']:\n",
    "        df[feat] = to_index(df, feat)\n",
    "    \n",
    "    one_hot = to_one_hot(df,\n",
    "        ['weekday', 'hour', 'useragent_1', 'useragent_2', 'city', 'region', 'adexchange',\n",
    "         'slotwidth', 'slotheight', 'slotvisibility', 'slotformat', 'slotprice',\n",
    "         'advertiser',])\n",
    "    \n",
    "    return one_hot\n"
   ]
  },
  {
   "cell_type": "code",
   "execution_count": null,
   "metadata": {
    "collapsed": true
   },
   "outputs": [],
   "source": [
    "#评价的方法\n",
    "def simulation(df, bid_vals, base_bid):\n",
    "    budget = 6250\n",
    "    paid = 0\n",
    "    clicks = 0\n",
    "    for idx, row in df.iterrows():\n",
    "        if paid > budget:\n",
    "            break\n",
    "        \n",
    "        if bid_vals[idx] >= row['payprice']:\n",
    "            if row['click'] == 1:\n",
    "                clicks += 1\n",
    "            paid += (row['payprice'] / 1000)\n",
    "    return clicks, paid, idx, len(df)"
   ]
  },
  {
   "cell_type": "code",
   "execution_count": null,
   "metadata": {
    "collapsed": true
   },
   "outputs": [],
   "source": [
    "#画ROC曲线的方法\n",
    "def plot_roc(y_val, y_val_proba):\n",
    "    fpr, tpr, thresholds = roc_curve(y_val, y_val_proba)\n",
    "    f, axes = plt.subplots(1, figsize=(8, 5))\n",
    "    lab = 'AUC=%.5f' % auc(fpr, tpr)\n",
    "    axes.step(fpr, tpr, lw=2,label=lab)\n",
    "    axes.legend(loc='lower right', fontsize='small')\n",
    "    plt.show()"
   ]
  },
  {
   "cell_type": "code",
   "execution_count": null,
   "metadata": {
    "collapsed": true
   },
   "outputs": [],
   "source": [
    "from sklearn.preprocessing import StandardScaler, LabelEncoder, OneHotEncoder\n",
    "from sklearn.linear_model import LogisticRegression\n",
    "from sklearn.metrics import classification_report, roc_auc_score, roc_curve, auc, mean_squared_error\n",
    "from sklearn.ensemble import GradientBoostingClassifier\n"
   ]
  },
  {
   "cell_type": "code",
   "execution_count": null,
   "metadata": {
    "collapsed": true
   },
   "outputs": [],
   "source": [
    "ratio = 100\n",
    "pos_df = df_train[df_train['click']==1]\n",
    "neg_df = df_train[df_train['click']==0]\n",
    "reduced_neg_df = neg_df.sample(ratio*len(pos_df), random_state=100)\n",
    "down_sample_df = pd.concat([pos_df]+[reduced_neg_df], ignore_index=True)\n",
    "\n",
    "X_train = preprocess(down_sample_df.copy())\n",
    "y_train = down_sample_df['click'].values\n",
    "\n",
    "X_val = preprocess(df_val.copy())\n",
    "y_val = df_val['click'].values\n",
    "\n",
    "print(X_train.shape, X_val.shape)"
   ]
  },
  {
   "cell_type": "code",
   "execution_count": null,
   "metadata": {
    "collapsed": true
   },
   "outputs": [],
   "source": [
    "from sklearn.ensemble import GradientBoostingClassifier, RandomForestClassifier,AdaBoostClassifier\n",
    "from xgboost import XGBClassifier\n",
    "#from lightgbm import LGBMClassifier\n",
    "\n",
    "for clf_name, clf in [('Gradient Boosting', GradientBoostingClassifier()),\n",
    "                      ('Random Forest', RandomForestClassifier()),\n",
    "                      ('XGBoost', XGBClassifier()),\n",
    "                      ('Adaboosting',AdaBoostClassifier())]:\n",
    "    \n",
    "    clf.fit(X_train, y_train)\n",
    "    y_val_proba = clf.predict_proba(X_val)[:, 1]\n",
    "    fpr, tpr, thresholds = roc_curve(y_val, y_val_proba)\n",
    "    rmse = np.sqrt(mean_squared_error(y_val, y_val_proba))\n",
    "    print(\"AUC=%.3f | RMSE=%.3f | %s\" % (auc(fpr, tpr), rmse, clf_name))\n",
    "\n",
    "\n",
    "    \n",
    "    "
   ]
  },
  {
   "cell_type": "code",
   "execution_count": null,
   "metadata": {
    "collapsed": true
   },
   "outputs": [],
   "source": [
    "clf1 = GradientBoostingClassifier()\n",
    "clf1.fit(X_train, y_train)\n",
    "y_val_pred1 = clf1.predict(X_val)\n",
    "y_val_proba1 = clf1.predict_proba(X_val)[:, 1]\n",
    "plot_roc(y_val, y_val_proba1)\n",
    "\n",
    "avgCTR = df_train['click'].values.mean()\n",
    "base_bid = 5.5\n",
    "pCTRs = y_val_proba1\n",
    "bid_vals = pCTRs * base_bid / avgCTR\n",
    "print(bid_vals)\n",
    "\n",
    "clicks, paid, idx, total_rows = simulation(df_val, bid_vals, base_bid)\n",
    "print(\"Linear Bidding (Gradient Boosting)| Clicks: %d | Paid: %d | Rows: %d / %d\" % (clicks, paid, idx, total_rows))"
   ]
  },
  {
   "cell_type": "code",
   "execution_count": null,
   "metadata": {
    "collapsed": true
   },
   "outputs": [],
   "source": [
    "clf2 = RandomForestClassifier()\n",
    "clf2.fit(X_train, y_train)\n",
    "y_val_pred2 = clf2.predict(X_val)\n",
    "y_val_proba2 = clf2.predict_proba(X_val)[:, 1]\n",
    "plot_roc(y_val, y_val_proba2)\n",
    "\n",
    "avgCTR = df_train['click'].values.mean()\n",
    "base_bid = 5.5\n",
    "pCTRs = y_val_proba2\n",
    "bid_vals = pCTRs * base_bid / avgCTR\n",
    "print(bid_vals)\n",
    "\n",
    "clicks, paid, idx, total_rows = simulation(df_val, bid_vals, base_bid)\n",
    "print(\"Linear Bidding (Random Forest| Clicks: %d | Paid: %d | Rows: %d / %d\" % (clicks, paid, idx, total_rows))"
   ]
  },
  {
   "cell_type": "code",
   "execution_count": null,
   "metadata": {
    "collapsed": true
   },
   "outputs": [],
   "source": [
    "clf3 = XGBClassifier()\n",
    "clf3.fit(X_train, y_train)\n",
    "y_val_pred3 = clf3.predict(X_val)\n",
    "y_val_proba3 = clf3.predict_proba(X_val)[:, 1]\n",
    "plot_roc(y_val, y_val_proba3)\n",
    "\n",
    "avgCTR = df_train['click'].values.mean()\n",
    "base_bid = 5.5\n",
    "pCTRs = y_val_proba3\n",
    "bid_vals = pCTRs * base_bid / avgCTR\n",
    "print(bid_vals)\n",
    "\n",
    "clicks, paid, idx, total_rows = simulation(df_val, bid_vals, base_bid)\n",
    "print(\"Linear Bidding (XGBoost| Clicks: %d | Paid: %d | Rows: %d / %d\" % (clicks, paid, idx, total_rows))"
   ]
  },
  {
   "cell_type": "code",
   "execution_count": null,
   "metadata": {
    "collapsed": true
   },
   "outputs": [],
   "source": [
    "clf4 = AdaBoostClassifier()\n",
    "clf4.fit(X_train, y_train)\n",
    "y_val_pred4 = clf4.predict(X_val)\n",
    "y_val_proba4 = clf4.predict_proba(X_val)[:, 1]\n",
    "plot_roc(y_val, y_val_proba4)\n",
    "\n",
    "avgCTR = df_train['click'].values.mean()\n",
    "base_bid = 5.5\n",
    "pCTRs = y_val_proba4\n",
    "bid_vals = pCTRs * base_bid / avgCTR\n",
    "print(bid_vals)\n",
    "\n",
    "clicks, paid, idx, total_rows = simulation(df_val, bid_vals, base_bid)\n",
    "print(\"Linear Bidding (Adaboosting)| Clicks: %d | Paid: %d | Rows: %d / %d\" % (clicks, paid, idx, total_rows))"
   ]
  },
  {
   "cell_type": "code",
   "execution_count": null,
   "metadata": {
    "collapsed": true
   },
   "outputs": [],
   "source": [
    "clf = LogisticRegression()\n",
    "clf.fit(X_train, y_train)\n",
    "y_val_pred = clf.predict(X_val)\n",
    "y_val_proba = clf.predict_proba(X_val)[:, 1]\n",
    "plot_roc(y_val, y_val_proba)\n",
    "\n",
    "avgCTR = df_train['click'].values.mean()\n",
    "base_bid = 5.5\n",
    "pCTRs = y_val_proba\n",
    "bid_vals = pCTRs * base_bid / avgCTR\n",
    "print(bid_vals)\n",
    "\n",
    "clicks, paid, idx, total_rows = simulation(df_val, bid_vals, base_bid)\n",
    "print(\"Linear Bidding (logistic| Clicks: %d | Paid: %d | Rows: %d / %d\" % (clicks, paid, idx, total_rows))"
   ]
  },
  {
   "cell_type": "code",
   "execution_count": null,
   "metadata": {
    "collapsed": true
   },
   "outputs": [],
   "source": [
    "clf_name=['Random Forest','Gradient Boosting','XGBoost','Adaboosting']\n",
    "AUC=[0.619,0.737,0.741,0.735]\n",
    "\n",
    "fig = plt.figure()\n",
    "ax = fig.add_subplot(111)\n",
    "ax.bar(clf_name, AUC)\n",
    "plt.title('AUC of different model')\n",
    "plt.xlabel('Model')\n",
    "plt.ylabel('AUC')\n",
    "plt.show()"
   ]
  },
  {
   "cell_type": "code",
   "execution_count": null,
   "metadata": {
    "collapsed": true
   },
   "outputs": [],
   "source": [
    "clf_name=['Random Forest','Gradient Boosting','XGBoost','Adaboosting']\n",
    "Clicks=[73,128,126,51]\n",
    "\n",
    "fig = plt.figure()\n",
    "ax = fig.add_subplot(111)\n",
    "ax.bar(clf_name, Clicks)\n",
    "plt.title('Clicks of different model')\n",
    "plt.xlabel('Model')\n",
    "plt.ylabel('Clicks')\n",
    "plt.show()"
   ]
  },
  {
   "cell_type": "code",
   "execution_count": null,
   "metadata": {
    "collapsed": true
   },
   "outputs": [],
   "source": [
    "import xgboost as xgb\n",
    "from xgboost.sklearn import XGBRegressor\n",
    "from sklearn.model_selection import GridSearchCV\n",
    "\n",
    "xgb1 = XGBClassifier()\n",
    "parameters = {'nthread':[4], #when use hyperthread, xgboost may become slower\n",
    "              'objective':['reg:linear'],\n",
    "              'learning_rate': [.03, 0.05, .07], #so called `eta` value\n",
    "              'max_depth': [5, 6, 7],\n",
    "              'min_child_weight': [4],\n",
    "              'silent': [1],\n",
    "              'subsample': [0.7],\n",
    "              'colsample_bytree': [0.7],\n",
    "              'n_estimators': [500]}\n",
    "\n",
    "xgb_grid = GridSearchCV(xgb1,\n",
    "                        parameters,\n",
    "                        cv = 2,\n",
    "                        n_jobs = 5,\n",
    "                        verbose=True)\n",
    "\n",
    "xgb_grid.fit(X_train, y_train)\n",
    "\n",
    "print(xgb_grid.best_score_)\n",
    "print(xgb_grid.best_params_)"
   ]
  },
  {
   "cell_type": "code",
   "execution_count": null,
   "metadata": {
    "collapsed": true
   },
   "outputs": [],
   "source": [
    "model_name='new_XGBoost'\n",
    "model=XGBClassifier(colsample_bytree=0.7, learning_rate=0.03,\n",
    "                   max_depth=5,min_child_weight=4,\n",
    "                   n_estimators=500, nthread=4,\n",
    "                  silent=1, subsample=0.7)\n",
    "model.fit(X_train, y_train)\n",
    "\n",
    "y_val_proba = model.predict_proba(X_val)[:, 1]\n",
    "fpr, tpr, thresholds = roc_curve(y_val, y_val_proba)\n",
    "rmse = np.sqrt(mean_squared_error(y_val, y_val_proba))\n",
    "print(\"AUC=%.3f | RMSE=%.3f | %s\" % (auc(fpr, tpr), rmse, model_name))\n",
    "\n",
    "y_val_pred = model.predict(X_val)\n",
    "y_val_proba = model.predict_proba(X_val)[:, 1]\n",
    "plot_roc(y_val, y_val_proba)\n",
    "\n",
    "avgCTR = df_train['click'].values.mean()\n",
    "base_bid = 5.5\n",
    "pCTRs = y_val_proba\n",
    "bid_vals = pCTRs * base_bid / avgCTR\n",
    "print(bid_vals)\n",
    "\n",
    "clicks, paid, idx, total_rows = simulation(df_val, bid_vals, base_bid)\n",
    "print(\"Linear Bidding (new_XGBoost)| Clicks: %d | Paid: %d | Rows: %d / %d\" % (clicks, paid, idx, total_rows))"
   ]
  },
  {
   "cell_type": "code",
   "execution_count": null,
   "metadata": {
    "collapsed": true
   },
   "outputs": [],
   "source": [
    "clf_name=['XGBoost','new_XGBoost']\n",
    "AUC=[0.741,0.805 ]\n",
    "\n",
    "fig = plt.figure()\n",
    "ax2 = fig.add_subplot(111)\n",
    "ax2.bar(clf_name, AUC)\n",
    "plt.title('AUC of different model')\n",
    "plt.xlabel('Model')\n",
    "plt.ylabel('AUC')\n",
    "plt.show()"
   ]
  }
 ],
 "metadata": {
  "kernelspec": {
   "display_name": "Python 3",
   "language": "python",
   "name": "python3"
  },
  "language_info": {
   "codemirror_mode": {
    "name": "ipython",
    "version": 3
   },
   "file_extension": ".py",
   "mimetype": "text/x-python",
   "name": "python",
   "nbconvert_exporter": "python",
   "pygments_lexer": "ipython3",
   "version": "3.6.3"
  }
 },
 "nbformat": 4,
 "nbformat_minor": 2
}
