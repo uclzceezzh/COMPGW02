{
 "cells": [
  {
   "cell_type": "code",
   "execution_count": 1,
   "metadata": {},
   "outputs": [],
   "source": [
    "% matplotlib inline\n",
    "from __future__ import print_function, division\n",
    "import time\n",
    "import numpy as np\n",
    "import pandas as pd\n",
    "import matplotlib.pyplot as plt\n",
    "from sklearn.metrics import confusion_matrix,recall_score,classification_report "
   ]
  },
  {
   "cell_type": "code",
   "execution_count": 2,
   "metadata": {},
   "outputs": [],
   "source": [
    "def read_file(path):\n",
    "    t0 = time.time()\n",
    "    df = pd.read_csv(path, na_values=['null', 'Na'])\n",
    "    print(\"%.2f secs ==> pd.read_csv\"%(time.time()-t0))\n",
    "    df['useragent_1'] = df['useragent'].apply(lambda x: x.split('_')[0])\n",
    "    df['useragent_2'] = df['useragent'].apply(lambda x: x.split('_')[1])\n",
    "    return df"
   ]
  },
  {
   "cell_type": "code",
   "execution_count": 3,
   "metadata": {},
   "outputs": [
    {
     "name": "stdout",
     "output_type": "stream",
     "text": [
      "34.12 secs ==> pd.read_csv\n",
      "2.19 secs ==> pd.read_csv\n",
      "3.05 secs ==> pd.read_csv\n"
     ]
    }
   ],
   "source": [
    "df_train = read_file('./data/train.csv')\n",
    "df_val = read_file('./data/validation.csv')\n",
    "df_test = read_file('./data/test.csv')"
   ]
  },
  {
   "cell_type": "markdown",
   "metadata": {},
   "source": [
    "## Feature Engineering"
   ]
  },
  {
   "cell_type": "code",
   "execution_count": 4,
   "metadata": {},
   "outputs": [],
   "source": [
    "from sklearn.preprocessing import StandardScaler, LabelEncoder, OneHotEncoder\n",
    "from sklearn.linear_model import LogisticRegression\n",
    "from sklearn.metrics import classification_report, roc_auc_score, roc_curve, auc, mean_squared_error"
   ]
  },
  {
   "cell_type": "code",
   "execution_count": 5,
   "metadata": {},
   "outputs": [
    {
     "name": "stdout",
     "output_type": "stream",
     "text": [
      "['click', 'weekday', 'hour', 'bidid', 'userid', 'useragent', 'IP', 'region', 'city', 'adexchange', 'domain', 'url', 'urlid', 'slotid', 'slotwidth', 'slotheight', 'slotvisibility', 'slotformat', 'slotprice', 'creative', 'bidprice', 'payprice', 'keypage', 'advertiser', 'usertag', 'useragent_1', 'useragent_2']\n"
     ]
    }
   ],
   "source": [
    "col_names=df_train.columns.tolist()\n",
    "print(col_names)"
   ]
  },
  {
   "cell_type": "code",
   "execution_count": 6,
   "metadata": {},
   "outputs": [
    {
     "name": "stdout",
     "output_type": "stream",
     "text": [
      "              click       weekday          hour        region          city  \\\n",
      "count  2.430981e+06  2.430981e+06  2.430981e+06  2.430981e+06  2.430981e+06   \n",
      "mean   7.375623e-04  2.888556e+00  1.348925e+01  1.493833e+02  1.543295e+02   \n",
      "std    2.714809e-02  2.055223e+00  6.567105e+00  1.020631e+02  1.033093e+02   \n",
      "min    0.000000e+00  0.000000e+00  0.000000e+00  0.000000e+00  0.000000e+00   \n",
      "25%    0.000000e+00  1.000000e+00  1.000000e+01  7.900000e+01  7.900000e+01   \n",
      "50%    0.000000e+00  3.000000e+00  1.400000e+01  1.460000e+02  1.520000e+02   \n",
      "75%    0.000000e+00  5.000000e+00  1.900000e+01  2.160000e+02  2.220000e+02   \n",
      "max    1.000000e+00  6.000000e+00  2.300000e+01  3.950000e+02  3.990000e+02   \n",
      "\n",
      "         adexchange  urlid     slotwidth    slotheight    slotformat  \\\n",
      "count  2.381152e+06    0.0  2.430981e+06  2.430981e+06  1.925991e+06   \n",
      "mean   2.109685e+00    NaN  5.774218e+02  1.885723e+02  3.335576e-01   \n",
      "std    8.764370e-01    NaN  3.216738e+02  1.314946e+02  5.887512e-01   \n",
      "min    1.000000e+00    NaN  1.200000e+02  5.000000e+01  0.000000e+00   \n",
      "25%    1.000000e+00    NaN  3.000000e+02  9.000000e+01  0.000000e+00   \n",
      "50%    2.000000e+00    NaN  3.360000e+02  9.000000e+01  0.000000e+00   \n",
      "75%    3.000000e+00    NaN  9.600000e+02  2.500000e+02  1.000000e+00   \n",
      "max    4.000000e+00    NaN  1.000000e+03  6.000000e+02  5.000000e+00   \n",
      "\n",
      "          slotprice      bidprice      payprice    advertiser  \n",
      "count  2.430981e+06  2.430981e+06  2.430981e+06  2.430981e+06  \n",
      "mean   2.671783e+01  2.729620e+02  7.815142e+01  2.840736e+03  \n",
      "std    3.704444e+01  2.891153e+01  5.984636e+01  7.841990e+02  \n",
      "min    0.000000e+00  2.270000e+02  0.000000e+00  1.458000e+03  \n",
      "25%    0.000000e+00  2.410000e+02  3.300000e+01  2.259000e+03  \n",
      "50%    5.000000e+00  2.940000e+02  6.800000e+01  3.358000e+03  \n",
      "75%    5.000000e+01  3.000000e+02  9.900000e+01  3.427000e+03  \n",
      "max    3.000000e+02  3.000000e+02  3.000000e+02  3.476000e+03  \n"
     ]
    }
   ],
   "source": [
    "print (df_train.describe())"
   ]
  },
  {
   "cell_type": "code",
   "execution_count": 7,
   "metadata": {},
   "outputs": [],
   "source": [
    "def bid_price(bidprice):\n",
    "    if bidprice <= 241:\n",
    "        return 0\n",
    "    if 241< bidprice <= 294:\n",
    "        return 1\n",
    "    if 294 < bidprice <= 300:\n",
    "        return 2\n",
    "    if 300 < bidpreice :\n",
    "        return 3"
   ]
  },
  {
   "cell_type": "code",
   "execution_count": 8,
   "metadata": {},
   "outputs": [],
   "source": [
    "def pay_price(payprice):\n",
    "    if payprice <= 33:\n",
    "        return 0\n",
    "    if 33< payprice <= 68:\n",
    "        return 1\n",
    "    if 68 < payprice <= 99:\n",
    "        return 2\n",
    "    if 99 < payprice :\n",
    "        return 3"
   ]
  },
  {
   "cell_type": "code",
   "execution_count": 9,
   "metadata": {},
   "outputs": [],
   "source": [
    "def hour_fn(hour):\n",
    "    if hour <= 10:\n",
    "        return 0\n",
    "    if 10 < hour <= 14:\n",
    "        return 1\n",
    "    if 14 < hour <= 19:\n",
    "        return 2\n",
    "    if 19< hour <= 24:\n",
    "        return 3"
   ]
  },
  {
   "cell_type": "code",
   "execution_count": 10,
   "metadata": {},
   "outputs": [],
   "source": [
    "def slot_width_fn(width):\n",
    "    if width <= 300:\n",
    "        return 0\n",
    "    if 300 < width <= 250:\n",
    "        return 1\n",
    "    if width > 250:\n",
    "        return 2"
   ]
  },
  {
   "cell_type": "code",
   "execution_count": 11,
   "metadata": {},
   "outputs": [],
   "source": [
    "def slot_height_fn(height):\n",
    "    if height <= 90:\n",
    "        return 0\n",
    "    if 90 < height <= 240:\n",
    "        return 1\n",
    "    if height > 240:\n",
    "        return 2"
   ]
  },
  {
   "cell_type": "code",
   "execution_count": 12,
   "metadata": {},
   "outputs": [],
   "source": [
    "def city_fn(city):\n",
    "    if city <= 93:\n",
    "        return 0\n",
    "    if 93 < city <= 187:\n",
    "        return 1\n",
    "    if 187 < city <= 303:\n",
    "        return 2\n",
    "    if city > 303:\n",
    "        return 3"
   ]
  },
  {
   "cell_type": "code",
   "execution_count": 13,
   "metadata": {},
   "outputs": [],
   "source": [
    "def region_fn(region):\n",
    "    if region <= 65:\n",
    "        return 0\n",
    "    if 65 < region <= 183:\n",
    "        return 1\n",
    "    if 183 < region <= 325:\n",
    "        return 2\n",
    "    if region > 325:\n",
    "        return 3"
   ]
  },
  {
   "cell_type": "code",
   "execution_count": 14,
   "metadata": {},
   "outputs": [],
   "source": [
    "def slot_price_fn(price):\n",
    "    if price <= 50:\n",
    "        return 0\n",
    "    if 50 < price <= 98:\n",
    "        return 1\n",
    "    if price > 98:\n",
    "        return 2"
   ]
  },
  {
   "cell_type": "code",
   "execution_count": 15,
   "metadata": {},
   "outputs": [],
   "source": [
    "def to_index(df, feature):\n",
    "    return LabelEncoder().fit_transform(df[feature].values)\n",
    "\n",
    "def to_one_hot(df, features):\n",
    "    return OneHotEncoder().fit_transform(df[features].values).toarray()\n",
    "    "
   ]
  },
  {
   "cell_type": "code",
   "execution_count": 16,
   "metadata": {},
   "outputs": [],
   "source": [
    "def preprocess(df):\n",
    "    df['hour'] = df['hour'].apply(hour_fn)\n",
    "    df['slotwidth'] = df['slotwidth'].apply(slot_width_fn)\n",
    "    df['slotheight'] = df['slotheight'].apply(slot_height_fn)\n",
    "    df['city'] = df['city'].apply(city_fn)\n",
    "    df['region'] = df['region'].apply(region_fn)\n",
    "    df['slotvisibility'] = df['slotvisibility'].apply(lambda x: str(x))\n",
    "    df['slotformat'] = df['slotformat'].apply(lambda x: str(x))\n",
    "    df['adexchange'] = df['adexchange'].apply(lambda x: str(x))\n",
    "    df['slotprice'] = df['slotprice'].apply(slot_price_fn)\n",
    "    \n",
    "    for feat in ['useragent_1', 'useragent_2', 'advertiser', 'slotvisibility', 'slotformat', 'adexchange']:\n",
    "        df[feat] = to_index(df, feat)\n",
    "    \n",
    "    one_hot = to_one_hot(df,\n",
    "        ['weekday', 'hour', 'useragent_1', 'useragent_2', 'city', 'region', 'adexchange',\n",
    "         'slotwidth', 'slotheight', 'slotvisibility', 'slotformat', 'slotprice',\n",
    "         'advertiser',])\n",
    "    \n",
    "    return one_hot"
   ]
  },
  {
   "cell_type": "markdown",
   "metadata": {},
   "source": [
    "### Down Sampling"
   ]
  },
  {
   "cell_type": "code",
   "execution_count": 17,
   "metadata": {
    "scrolled": false
   },
   "outputs": [
    {
     "name": "stderr",
     "output_type": "stream",
     "text": [
      "/anaconda3/lib/python3.6/site-packages/ipykernel_launcher.py:18: DeprecationWarning: \n",
      ".ix is deprecated. Please use\n",
      ".loc for label based indexing or\n",
      ".iloc for positional indexing\n",
      "\n",
      "See the documentation here:\n",
      "http://pandas.pydata.org/pandas-docs/stable/indexing.html#ix-indexer-is-deprecated\n"
     ]
    },
    {
     "name": "stdout",
     "output_type": "stream",
     "text": [
      "Percentage of normal transactions:  0.9900990099009901\n",
      "Percentage of fraud transactions:  0.009900990099009901\n",
      "Total number of transactions in resampled data:  181093\n"
     ]
    }
   ],
   "source": [
    "\n",
    "pos_len = 100*len(df_train[df_train['click']==1])\n",
    "pos_indices = np.array(df_train[df_train['click']==1].index)\n",
    "\n",
    "# Picking the indices of the normal classes\n",
    "neg_indices = df_train[df_train['click']==0].index\n",
    "\n",
    "# Out of the indices we picked, randomly select \"x\" number (number_records_fraud)\n",
    "random_normal_indices = np.random.choice(neg_indices, pos_len, replace = False)\n",
    "random_normal_indices = np.array(random_normal_indices)\n",
    "\n",
    "# Appending the 2 indices\n",
    "under_sample_indices = np.concatenate([pos_indices,random_normal_indices])\n",
    "\n",
    "# Under sample dataset\n",
    "under_sample_data = df_train.iloc[under_sample_indices,:]\n",
    "\n",
    "X_undersample = under_sample_data.ix[:, under_sample_data.columns != 'click']\n",
    "y_undersample = under_sample_data.ix[:, under_sample_data.columns == 'click']\n",
    "\n",
    "# Showing ratio\n",
    "print(\"Percentage of normal transactions: \", len(under_sample_data[under_sample_data.click == 0])/len(under_sample_data))\n",
    "print(\"Percentage of fraud transactions: \", len(under_sample_data[under_sample_data.click == 1])/len(under_sample_data))\n",
    "print(\"Total number of transactions in resampled data: \", len(under_sample_data))"
   ]
  },
  {
   "cell_type": "markdown",
   "metadata": {},
   "source": [
    "### LGBM"
   ]
  },
  {
   "cell_type": "code",
   "execution_count": 18,
   "metadata": {},
   "outputs": [
    {
     "name": "stderr",
     "output_type": "stream",
     "text": [
      "/anaconda3/lib/python3.6/site-packages/sklearn/cross_validation.py:41: DeprecationWarning: This module was deprecated in version 0.18 in favor of the model_selection module into which all the refactored classes and functions are moved. Also note that the interface of the new CV iterators are different from that of this module. This module will be removed in 0.20.\n",
      "  \"This module will be removed in 0.20.\", DeprecationWarning)\n"
     ]
    }
   ],
   "source": [
    "from lightgbm import LGBMClassifier\n",
    "from sklearn.cross_validation import KFold"
   ]
  },
  {
   "cell_type": "code",
   "execution_count": 37,
   "metadata": {},
   "outputs": [],
   "source": [
    "def simulation(df, bid_vals, base_bid):\n",
    "    budget = 6250\n",
    "    paid = 0\n",
    "    clicks = 0\n",
    "    for idx, row in df.iterrows():\n",
    "        if paid > budget:\n",
    "            break\n",
    "        \n",
    "        if bid_vals[idx] >= row['payprice']:\n",
    "            if row['click'] == 1:\n",
    "                clicks += 1\n",
    "            paid += (row['payprice'] / 1000)\n",
    "    imps = idx + 1\n",
    "    ctr = clicks / imps * 100\n",
    "    cpm = ((paid / imps) * 1000)\n",
    "    cpc = paid / clicks\n",
    "    return clicks, ctr, paid, cpm, cpc, idx, len(df)"
   ]
  },
  {
   "cell_type": "code",
   "execution_count": 20,
   "metadata": {},
   "outputs": [],
   "source": [
    "def plot_confusion_matrix(cm, classes,\n",
    "                          title='Confusion matrix',\n",
    "                          cmap=plt.cm.Blues):\n",
    "    \"\"\"\n",
    "    This function prints and plots the confusion matrix.\n",
    "    \"\"\"\n",
    "    plt.imshow(cm, interpolation='nearest', cmap=cmap)\n",
    "    plt.title(title)\n",
    "    plt.colorbar()\n",
    "    tick_marks = np.arange(len(classes))\n",
    "    plt.xticks(tick_marks, classes, rotation=0)\n",
    "    plt.yticks(tick_marks, classes)\n",
    "\n",
    "    thresh = cm.max() / 2.\n",
    "    for i, j in itertools.product(range(cm.shape[0]), range(cm.shape[1])):\n",
    "        plt.text(j, i, cm[i, j],\n",
    "                 horizontalalignment=\"center\",\n",
    "                 color=\"white\" if cm[i, j] > thresh else \"black\")\n",
    "\n",
    "    plt.tight_layout()\n",
    "    plt.ylabel('True label')\n",
    "    plt.xlabel('Predicted label')"
   ]
  },
  {
   "cell_type": "code",
   "execution_count": 21,
   "metadata": {},
   "outputs": [],
   "source": [
    "def plot_roc(y_val, y_val_proba):\n",
    "    fpr, tpr, thresholds = roc_curve(y_val, y_val_proba)\n",
    "    f, axes = plt.subplots(1, figsize=(8, 5))\n",
    "    lab = 'AUC=%.5f' % auc(fpr, tpr)\n",
    "    axes.step(fpr, tpr, lw=2,label=lab)\n",
    "    axes.legend(loc='lower right', fontsize='small')\n",
    "    plt.show()"
   ]
  },
  {
   "cell_type": "code",
   "execution_count": 22,
   "metadata": {},
   "outputs": [
    {
     "name": "stdout",
     "output_type": "stream",
     "text": [
      "(181093, 71) (303925, 71)\n"
     ]
    },
    {
     "name": "stderr",
     "output_type": "stream",
     "text": [
      "/anaconda3/lib/python3.6/site-packages/sklearn/preprocessing/label.py:151: DeprecationWarning: The truth value of an empty array is ambiguous. Returning False, but in future this will result in an error. Use `array.size > 0` to check that an array is not empty.\n",
      "  if diff:\n"
     ]
    },
    {
     "data": {
      "image/png": "[encoded data removed]",
      "text/plain": [
       "<matplotlib.figure.Figure at 0x167adce10>"
      ]
     },
     "metadata": {},
     "output_type": "display_data"
    },
    {
     "name": "stdout",
     "output_type": "stream",
     "text": [
      "             precision    recall  f1-score   support\n",
      "\n",
      "          0       1.00      1.00      1.00    303723\n",
      "          1       0.03      0.00      0.01       202\n",
      "\n",
      "avg / total       1.00      1.00      1.00    303925\n",
      "\n"
     ]
    },
    {
     "data": {
      "image/png": "[encoded data removed]",
      "text/plain": [
       "<matplotlib.figure.Figure at 0x167adcfd0>"
      ]
     },
     "metadata": {},
     "output_type": "display_data"
    },
    {
     "name": "stdout",
     "output_type": "stream",
     "text": [
      "cross entropy loss:  0.012572029870096564\n"
     ]
    }
   ],
   "source": [
    "import itertools\n",
    "from sklearn.metrics import log_loss\n",
    "ratio = 100\n",
    "pos_df = df_train[df_train['click']==1]\n",
    "neg_df = df_train[df_train['click']==0]\n",
    "reduced_neg_df = neg_df.sample(ratio*len(pos_df), random_state=100)\n",
    "down_sample_df = pd.concat([pos_df]+[reduced_neg_df], ignore_index=True)\n",
    "\n",
    "X_train = preprocess(down_sample_df.copy())\n",
    "y_train = down_sample_df['click'].values\n",
    "\n",
    "X_val = preprocess(df_val.copy())\n",
    "y_val = df_val['click'].values\n",
    "\n",
    "print(X_train.shape, X_val.shape)\n",
    "\n",
    "lg = LGBMClassifier()\n",
    "lg.fit(X_train, y_train)\n",
    "y_val_pred = lg.predict(X_val)\n",
    "y_val_proba = lg.predict_proba(X_val)[:, 1]\n",
    "plot_roc(y_val, y_val_proba)\n",
    "print(classification_report(y_val, y_val_pred))\n",
    "\n",
    "# Compute confusion matrix\n",
    "cnf_matrix = confusion_matrix(y_val, y_val_pred)\n",
    "np.set_printoptions(precision=2)\n",
    "\n",
    "#print(\"Recall metric in the testing dataset: \", cnf_matrix[1,1]/(cnf_matrix[1,0]+cnf_matrix[1,1]))\n",
    "\n",
    "# Plot non-normalized confusion matrix\n",
    "class_names = [0,1]\n",
    "plt.figure()\n",
    "plot_confusion_matrix(cnf_matrix\n",
    "                      , classes=class_names\n",
    "                      , title='Confusion matrix')\n",
    "plt.show()\n",
    "print(\"cross entropy loss: \",log_loss(y_val,y_val_proba))"
   ]
  },
  {
   "cell_type": "code",
   "execution_count": 23,
   "metadata": {},
   "outputs": [
    {
     "name": "stdout",
     "output_type": "stream",
     "text": [
      "[ 40.12  39.91  37.99 ... 116.97  61.72  33.37]\n",
      "Linear Bidding | Clicks: 123 | CTR: 0.040 | Spent: 6033 | Paid: 6033 | CPM: 19.85 | CPC: 49.05 | Impressions: 303924\n"
     ]
    }
   ],
   "source": [
    "avgCTR = df_train['click'].values.mean()\n",
    "base_bid = 5.5\n",
    "pCTRs = y_val_proba\n",
    "bid_vals = pCTRs * base_bid / avgCTR\n",
    "print(bid_vals)\n",
    "\n",
    "clicks, ctr, paid, cpm, cpc, idx, total_rows = simulation(df_val, bid_vals, base_bid)\n",
    "print(\"Linear Bidding | Clicks: %d | CTR: %.3f | Spent: %d | Paid: %d | CPM: %.2f | CPC: %.2f | Impressions: %d\" % (\n",
    "    clicks, ctr, paid, paid, cpm, cpc, idx))"
   ]
  },
  {
   "cell_type": "markdown",
   "metadata": {},
   "source": [
    "### Oversample"
   ]
  },
  {
   "cell_type": "code",
   "execution_count": 36,
   "metadata": {},
   "outputs": [
    {
     "name": "stdout",
     "output_type": "stream",
     "text": [
      "(302408, 71)\n"
     ]
    }
   ],
   "source": [
    "import pandas as pd\n",
    "from imblearn.over_sampling import SMOTE\n",
    "from sklearn.ensemble import RandomForestClassifier\n",
    "from sklearn.metrics import confusion_matrix\n",
    "from sklearn.model_selection import train_test_split\n",
    "\n",
    "df_train=df_train[df_train.payprice>=df_train.slotprice]\n",
    "df_val=df_val[df_val.payprice>=df_val.slotprice]\n",
    "\n",
    "pos_df = df_train[df_train['click']==1]\n",
    "neg_df = df_train[df_train['click']==0]\n",
    "\n",
    "\n",
    "features=df_train.copy()\n",
    "labels=df_train['click']\n",
    "features_train=preprocess(features)\n",
    "\n",
    "\n",
    "X_val = preprocess(df_val.copy())\n",
    "print(X_val.shape)\n",
    "y_val = df_val['click'].values\n",
    "\n",
    "\n",
    "oversampler=SMOTE(random_state=0)\n",
    "os_features,os_labels=oversampler.fit_sample(features_train,labels)"
   ]
  },
  {
   "cell_type": "code",
   "execution_count": 25,
   "metadata": {},
   "outputs": [
    {
     "data": {
      "text/plain": [
       "(4833584, 71)"
      ]
     },
     "execution_count": 25,
     "metadata": {},
     "output_type": "execute_result"
    }
   ],
   "source": [
    "len(os_labels[os_labels==1])\n",
    "os_features.shape"
   ]
  },
  {
   "cell_type": "code",
   "execution_count": 26,
   "metadata": {},
   "outputs": [
    {
     "name": "stderr",
     "output_type": "stream",
     "text": [
      "/anaconda3/lib/python3.6/site-packages/sklearn/preprocessing/label.py:151: DeprecationWarning: The truth value of an empty array is ambiguous. Returning False, but in future this will result in an error. Use `array.size > 0` to check that an array is not empty.\n",
      "  if diff:\n"
     ]
    },
    {
     "data": {
      "image/png": "[encoded data removed]",
      "text/plain": [
       "<matplotlib.figure.Figure at 0x167c35b70>"
      ]
     },
     "metadata": {},
     "output_type": "display_data"
    },
    {
     "name": "stdout",
     "output_type": "stream",
     "text": [
      "             precision    recall  f1-score   support\n",
      "\n",
      "          0       1.00      0.98      0.99    302207\n",
      "          1       0.01      0.13      0.01       201\n",
      "\n",
      "avg / total       1.00      0.98      0.99    302408\n",
      "\n"
     ]
    },
    {
     "data": {
      "image/png": "[encoded data removed]",
      "text/plain": [
       "<matplotlib.figure.Figure at 0x14295dcc0>"
      ]
     },
     "metadata": {},
     "output_type": "display_data"
    },
    {
     "name": "stdout",
     "output_type": "stream",
     "text": [
      "cross entropy loss:  0.08672731350860224\n"
     ]
    }
   ],
   "source": [
    "import itertools\n",
    "lg = LGBMClassifier()\n",
    "lg.fit(os_features, os_labels)\n",
    "y_val_pred = lg.predict(X_val)\n",
    "y_val_proba = lg.predict_proba(X_val)[:, 1]\n",
    "plot_roc(y_val, y_val_proba)\n",
    "print(classification_report(y_val, y_val_pred))\n",
    "# Compute confusion matrix\n",
    "cnf_matrix = confusion_matrix(y_val, y_val_pred)\n",
    "np.set_printoptions(precision=2)\n",
    "\n",
    "#print(\"Recall metric in the testing dataset: \", cnf_matrix[1,1]/(cnf_matrix[1,0]+cnf_matrix[1,1]))\n",
    "\n",
    "# Plot non-normalized confusion matrix\n",
    "class_names = [0,1]\n",
    "plt.figure()\n",
    "plot_confusion_matrix(cnf_matrix\n",
    "                      , classes=class_names\n",
    "                      , title='Confusion matrix')\n",
    "plt.show()\n",
    "print(\"cross entropy loss: \",log_loss(y_val,y_val_proba))"
   ]
  },
  {
   "cell_type": "code",
   "execution_count": 27,
   "metadata": {},
   "outputs": [
    {
     "name": "stdout",
     "output_type": "stream",
     "text": [
      "[137.59  70.7  234.   ... 599.5  148.26 247.82]\n",
      "Linear Bidding | Clicks: 54 | CTR: 0.053 | Spent: 6250 | Paid: 6250 | CPM: 61.84 | CPC: 115.74 | Impressions: 101075\n"
     ]
    }
   ],
   "source": [
    "avgCTR = df_train['click'].values.mean()\n",
    "base_bid = 5.5\n",
    "pCTRs = y_val_proba\n",
    "bid_vals = pCTRs * base_bid / avgCTR\n",
    "print(bid_vals)\n",
    "\n",
    "clicks, ctr, paid, cpm, cpc, idx, total_rows = simulation(df_val, bid_vals, base_bid)\n",
    "print(\"Linear Bidding | Clicks: %d | CTR: %.3f | Spent: %d | Paid: %d | CPM: %.2f | CPC: %.2f | Impressions: %d\" % (\n",
    "    clicks, ctr, paid, paid, cpm, cpc, idx))"
   ]
  },
  {
   "cell_type": "code",
   "execution_count": 8,
   "metadata": {},
   "outputs": [
    {
     "data": {
      "text/plain": [
       "'\\nfrom sklearn.ensemble import GradientBoostingClassifier\\n\\nclf2 = GradientBoostingClassifier()\\nclf2.fit(X_train, y_train)\\ny_val_pred = clf2.predict(X_val)\\ny_val_proba = clf2.predict_proba(X_val)[:, 1]\\n\\nbase_bid = 5.5\\npCTRs = y_val_proba\\nbid_vals = pCTRs * base_bid / avgCTR\\nprint(bid_vals)\\n\\nclicks, paid, idx, total_rows = simulation(df_val, bid_vals, base_bid)\\nprint(\"Linear Bidding | Clicks: %d | Paid: %d | Rows: %d / %d\" % (clicks, paid, idx, total_rows))\\n\\nX_test = preprocess(df_test.copy())\\npCTRs = clf.predict_proba(X_test)[:, 1]\\nbid_vals = pCTRs * base_bid / avgCTR\\ndf_submit = pd.read_csv(\\'./data/Group_7.csv\\')\\ndf_submit[\\'bidprice\\'] = bid_vals\\ndf_submit.to_csv(\\'./testing_bidding_price.csv\\', index=False)\\n'"
      ]
     },
     "execution_count": 8,
     "metadata": {},
     "output_type": "execute_result"
    }
   ],
   "source": [
    "\"\"\"\n",
    "from sklearn.ensemble import GradientBoostingClassifier\n",
    "\n",
    "clf2 = GradientBoostingClassifier()\n",
    "clf2.fit(X_train, y_train)\n",
    "y_val_pred = clf2.predict(X_val)\n",
    "y_val_proba = clf2.predict_proba(X_val)[:, 1]\n",
    "\n",
    "base_bid = 5.5\n",
    "pCTRs = y_val_proba\n",
    "bid_vals = pCTRs * base_bid / avgCTR\n",
    "print(bid_vals)\n",
    "\n",
    "clicks, paid, idx, total_rows = simulation(df_val, bid_vals, base_bid)\n",
    "print(\"Linear Bidding | Clicks: %d | Paid: %d | Rows: %d / %d\" % (clicks, paid, idx, total_rows))\n",
    "\n",
    "X_test = preprocess(df_test.copy())\n",
    "pCTRs = clf.predict_proba(X_test)[:, 1]\n",
    "bid_vals = pCTRs * base_bid / avgCTR\n",
    "df_submit = pd.read_csv('./data/Group_7.csv')\n",
    "df_submit['bidprice'] = bid_vals\n",
    "df_submit.to_csv('./testing_bidding_price.csv', index=False)\n",
    "\"\"\""
   ]
  },
  {
   "cell_type": "code",
   "execution_count": null,
   "metadata": {},
   "outputs": [],
   "source": []
  }
 ],
 "metadata": {
  "kernelspec": {
   "display_name": "Python 3",
   "language": "python",
   "name": "python3"
  },
  "language_info": {
   "codemirror_mode": {
    "name": "ipython",
    "version": 3
   },
   "file_extension": ".py",
   "mimetype": "text/x-python",
   "name": "python",
   "nbconvert_exporter": "python",
   "pygments_lexer": "ipython3",
   "version": "3.6.4"
  }
 },
 "nbformat": 4,
 "nbformat_minor": 2
}
