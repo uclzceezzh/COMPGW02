{
 "cells": [
  {
   "cell_type": "code",
   "execution_count": 1,
   "metadata": {},
   "outputs": [],
   "source": [
    "% matplotlib inline\n",
    "from __future__ import print_function, division\n",
    "import time\n",
    "import numpy as np\n",
    "import pandas as pd\n",
    "import matplotlib.pyplot as plt"
   ]
  },
  {
   "cell_type": "code",
   "execution_count": 2,
   "metadata": {},
   "outputs": [],
   "source": [
    "def read_file(path):\n",
    "    t0 = time.time()\n",
    "    df = pd.read_csv(path, na_values=['null', 'Na'])\n",
    "    print(\"%.2f secs ==> pd.read_csv\"%(time.time()-t0))\n",
    "    df['useragent_1'] = df['useragent'].apply(lambda x: x.split('_')[0])\n",
    "    df['useragent_2'] = df['useragent'].apply(lambda x: x.split('_')[1])\n",
    "    return df"
   ]
  },
  {
   "cell_type": "code",
   "execution_count": 3,
   "metadata": {},
   "outputs": [
    {
     "name": "stdout",
     "output_type": "stream",
     "text": [
      "18.81 secs ==> pd.read_csv\n",
      "2.38 secs ==> pd.read_csv\n",
      "2.12 secs ==> pd.read_csv\n"
     ]
    }
   ],
   "source": [
    "df_train = read_file('./data/train.csv')\n",
    "df_val = read_file('./data/validation.csv')\n",
    "df_test = read_file('./data/test.csv')"
   ]
  },
  {
   "cell_type": "markdown",
   "metadata": {},
   "source": [
    "## Problem 3"
   ]
  },
  {
   "cell_type": "code",
   "execution_count": 4,
   "metadata": {},
   "outputs": [],
   "source": [
    "from sklearn.preprocessing import StandardScaler, LabelEncoder, OneHotEncoder\n",
    "from sklearn.linear_model import LogisticRegression\n",
    "from sklearn.metrics import classification_report, roc_auc_score, roc_curve, auc, mean_squared_error"
   ]
  },
  {
   "cell_type": "code",
   "execution_count": 5,
   "metadata": {},
   "outputs": [],
   "source": [
    "def to_index(df, feature):\n",
    "    return LabelEncoder().fit_transform(df[feature].values)\n",
    "\n",
    "def to_one_hot(df, features):\n",
    "    return OneHotEncoder().fit_transform(df[features].values).toarray()\n",
    "\n",
    "def hour_fn(hour):\n",
    "    if hour <= 6:\n",
    "        return 0\n",
    "    if 6 < hour <= 12:\n",
    "        return 1\n",
    "    if 12 < hour <= 18:\n",
    "        return 2\n",
    "    if 18 < hour <= 24:\n",
    "        return 3\n",
    "\n",
    "def slot_width_fn(width):\n",
    "    if width <= 300:\n",
    "        return 0\n",
    "    if 300 < width <= 728:\n",
    "        return 1\n",
    "    if width > 728:\n",
    "        return 2\n",
    "\n",
    "def slot_height_fn(height):\n",
    "    if height <= 100:\n",
    "        return 0\n",
    "    if 100 < height <= 240:\n",
    "        return 1\n",
    "    if height > 240:\n",
    "        return 2\n",
    "\n",
    "def slot_height_fn(height):\n",
    "    if height <= 100:\n",
    "        return 0\n",
    "    if 100 < height <= 240:\n",
    "        return 1\n",
    "    if height > 240:\n",
    "        return 2\n",
    "    \n",
    "def city_fn(city):\n",
    "    if city <= 93:\n",
    "        return 0\n",
    "    if 93 < city <= 187:\n",
    "        return 1\n",
    "    if 187 < city <= 303:\n",
    "        return 2\n",
    "    if city > 303:\n",
    "        return 3\n",
    "\n",
    "def city_fn(city):\n",
    "    if city <= 93:\n",
    "        return 0\n",
    "    if 93 < city <= 187:\n",
    "        return 1\n",
    "    if 187 < city <= 303:\n",
    "        return 2\n",
    "    if city > 303:\n",
    "        return 3\n",
    "    \n",
    "def region_fn(region):\n",
    "    if region <= 65:\n",
    "        return 0\n",
    "    if 65 < region <= 183:\n",
    "        return 1\n",
    "    if 183 < region <= 325:\n",
    "        return 2\n",
    "    if region > 325:\n",
    "        return 3\n",
    "    \n",
    "def slot_price_fn(price):\n",
    "    if price <= 50:\n",
    "        return 0\n",
    "    if 50 < price <= 98:\n",
    "        return 1\n",
    "    if price > 98:\n",
    "        return 2\n",
    "    \n",
    "def preprocess(df):\n",
    "    df['hour'] = df['hour'].apply(hour_fn)\n",
    "    df['slotwidth'] = df['slotwidth'].apply(slot_width_fn)\n",
    "    df['slotheight'] = df['slotheight'].apply(slot_height_fn)\n",
    "    df['city'] = df['city'].apply(city_fn)\n",
    "    df['region'] = df['region'].apply(region_fn)\n",
    "    df['slotvisibility'] = df['slotvisibility'].apply(lambda x: str(x))\n",
    "    df['slotformat'] = df['slotformat'].apply(lambda x: str(x))\n",
    "    df['adexchange'] = df['adexchange'].apply(lambda x: str(x))\n",
    "    df['slotprice'] = df['slotprice'].apply(slot_price_fn)\n",
    "    \n",
    "    for feat in ['useragent_1', 'useragent_2', 'advertiser', 'slotvisibility', 'slotformat', 'adexchange']:\n",
    "        df[feat] = to_index(df, feat)\n",
    "    \n",
    "    one_hot = to_one_hot(df,\n",
    "        ['weekday', 'hour', 'useragent_1', 'useragent_2', 'city', 'region', 'adexchange',\n",
    "         'slotwidth', 'slotheight', 'slotvisibility', 'slotformat', 'slotprice',\n",
    "         'advertiser',])\n",
    "    \n",
    "    return one_hot\n",
    "\n",
    "def simulation(df, bid_vals, base_bid):\n",
    "    budget = 6250\n",
    "    paid = 0\n",
    "    clicks = 0\n",
    "    for idx, row in df.iterrows():\n",
    "        if paid > budget:\n",
    "            break\n",
    "        \n",
    "        if bid_vals[idx] >= row['payprice']:\n",
    "            if row['click'] == 1:\n",
    "                clicks += 1\n",
    "            paid += (row['payprice'] / 1000)\n",
    "    imps = idx + 1\n",
    "    ctr = clicks / imps * 100\n",
    "    cpm = ((paid / imps) * 1000)\n",
    "    cpc = paid / clicks\n",
    "    return clicks, ctr, paid, cpm, cpc, idx, len(df)\n",
    "\n",
    "def plot_roc(y_val, y_val_proba):\n",
    "    fpr, tpr, thresholds = roc_curve(y_val, y_val_proba)\n",
    "    f, axes = plt.subplots(1, figsize=(8, 5))\n",
    "    lab = 'AUC=%.5f' % auc(fpr, tpr)\n",
    "    axes.step(fpr, tpr, lw=2,label=lab)\n",
    "    axes.legend(loc='lower right', fontsize='small')\n",
    "    plt.show()"
   ]
  },
  {
   "cell_type": "code",
   "execution_count": 6,
   "metadata": {},
   "outputs": [
    {
     "name": "stdout",
     "output_type": "stream",
     "text": [
      "(181093, 72) (303925, 72)\n"
     ]
    },
    {
     "data": {
      "image/png": "[encoded data removed]",
      "text/plain": [
       "<matplotlib.figure.Figure at 0x16b0e7c88>"
      ]
     },
     "metadata": {},
     "output_type": "display_data"
    }
   ],
   "source": [
    "ratio = 100\n",
    "pos_df = df_train[df_train['click']==1]\n",
    "neg_df = df_train[df_train['click']==0]\n",
    "reduced_neg_df = neg_df.sample(ratio*len(pos_df), random_state=100)\n",
    "down_sample_df = pd.concat([pos_df]+[reduced_neg_df], ignore_index=True)\n",
    "\n",
    "X_train = preprocess(down_sample_df.copy())\n",
    "y_train = down_sample_df['click'].values\n",
    "\n",
    "X_val = preprocess(df_val.copy())\n",
    "y_val = df_val['click'].values\n",
    "\n",
    "print(X_train.shape, X_val.shape)\n",
    "\n",
    "clf = LogisticRegression()\n",
    "clf.fit(X_train, y_train)\n",
    "y_val_pred = clf.predict(X_val)\n",
    "y_val_proba = clf.predict_proba(X_val)[:, 1]\n",
    "plot_roc(y_val, y_val_proba)"
   ]
  },
  {
   "cell_type": "code",
   "execution_count": 7,
   "metadata": {},
   "outputs": [
    {
     "name": "stdout",
     "output_type": "stream",
     "text": [
      "[58.53486359 35.49082894 36.39448959 ... 60.76007349 31.1432159\n",
      " 28.21581999]\n",
      "Linear Bidding | Clicks: 122 | CTR: 0.040 | Spent: 6054 |  CPM: 19.92 | CPC: 49.63 | Impressions: 303924\n"
     ]
    }
   ],
   "source": [
    "avgCTR = df_train['click'].values.mean()\n",
    "base_bid = 5.5\n",
    "pCTRs = y_val_proba\n",
    "bid_vals = pCTRs * base_bid / avgCTR\n",
    "print(bid_vals)\n",
    "\n",
    "clicks, ctr, paid, cpm, cpc, idx, total_rows = simulation(df_val, bid_vals, base_bid)\n",
    "print(\"Linear Bidding | Clicks: %d | CTR: %.3f | Spent: %d |  CPM: %.2f | CPC: %.2f | Impressions: %d\" % (\n",
    "    clicks, ctr, paid, cpm, cpc, idx))"
   ]
  },
  {
   "cell_type": "code",
   "execution_count": 8,
   "metadata": {},
   "outputs": [
    {
     "name": "stdout",
     "output_type": "stream",
     "text": [
      "[ 59.28129357  44.10867718  35.95298757 ... 114.05590384  45.25067469\n",
      "  33.80799625]\n",
      "Linear Bidding | Clicks: 128 | CTR: 0.042 | Spent: 6023 |  CPM: 19.82 | CPC: 47.06 | Impressions: 303924\n"
     ]
    }
   ],
   "source": [
    "\n",
    "from sklearn.ensemble import GradientBoostingClassifier\n",
    "\n",
    "clf2 = GradientBoostingClassifier()\n",
    "clf2.fit(X_train, y_train)\n",
    "y_val_pred = clf2.predict(X_val)\n",
    "y_val_proba = clf2.predict_proba(X_val)[:, 1]\n",
    "\n",
    "base_bid = 5.5\n",
    "pCTRs = y_val_proba\n",
    "bid_vals = pCTRs * base_bid / avgCTR\n",
    "print(bid_vals)\n",
    "\n",
    "clicks, ctr, paid, cpm, cpc, idx, total_rows = simulation(df_val, bid_vals, base_bid)\n",
    "print(\"Linear Bidding | Clicks: %d | CTR: %.3f | Spent: %d |  CPM: %.2f | CPC: %.2f | Impressions: %d\" % (\n",
    "    clicks, ctr, paid, cpm, cpc, idx))\n",
    "\n",
    "X_test = preprocess(df_test.copy())\n",
    "pCTRs = clf.predict_proba(X_test)[:, 1]\n",
    "bid_vals = pCTRs * base_bid / avgCTR\n",
    "df_submit = pd.read_csv('./data/Group_7.csv')\n",
    "df_submit['bidprice'] = bid_vals\n",
    "df_submit.to_csv('./testing_bidding_price.csv', index=False)\n"
   ]
  },
  {
   "cell_type": "markdown",
   "metadata": {},
   "source": [
    "## Problem 5"
   ]
  },
  {
   "cell_type": "markdown",
   "metadata": {},
   "source": [
    "#### Method 1: GBDT + LR"
   ]
  },
  {
   "cell_type": "code",
   "execution_count": 11,
   "metadata": {},
   "outputs": [
    {
     "name": "stdout",
     "output_type": "stream",
     "text": [
      "AUC=0.722 | RMSE=0.031\n"
     ]
    }
   ],
   "source": [
    "from sklearn.ensemble import GradientBoostingRegressor\n",
    "\n",
    "class GBDT_LR:\n",
    "    def __init__(self):\n",
    "        self.gbdt = GradientBoostingRegressor()\n",
    "        self.lr = LogisticRegression()\n",
    "        self.one_hot = OneHotEncoder()\n",
    "\n",
    "    def fit(self, X_train, y_train):\n",
    "        self.gbdt.fit(X_train, y_train)\n",
    "        X_leaves = self.gbdt.apply(X_train)\n",
    "        X_feats = self.one_hot.fit_transform(X_leaves).toarray()\n",
    "        self.lr.fit(X_feats, y_train)\n",
    "        \n",
    "    def predict_proba(self, X_test):\n",
    "        X_leaves = self.gbdt.apply(X_test)\n",
    "        X_feats = self.one_hot.transform(X_leaves).toarray()\n",
    "        return self.lr.predict_proba(X_feats)\n",
    "\n",
    "clf = GBDT_LR()\n",
    "clf.fit(X_train, y_train)\n",
    "y_val_proba = clf.predict_proba(X_val)[:, 1]\n",
    "fpr, tpr, thresholds = roc_curve(y_val, y_val_proba)\n",
    "rmse = np.sqrt(mean_squared_error(y_val, y_val_proba))\n",
    "print(\"AUC=%.3f | RMSE=%.3f\" % (auc(fpr, tpr), rmse))"
   ]
  },
  {
   "cell_type": "markdown",
   "metadata": {},
   "source": [
    "#### Method 2: Voting"
   ]
  },
  {
   "cell_type": "code",
   "execution_count": 12,
   "metadata": {},
   "outputs": [
    {
     "name": "stdout",
     "output_type": "stream",
     "text": [
      "AUC=0.746 | RMSE=0.030\n"
     ]
    }
   ],
   "source": [
    "from sklearn.ensemble import VotingClassifier\n",
    "\n",
    "clf = VotingClassifier([('LR', LogisticRegression()),\n",
    "                        ('XGBoost', XGBClassifier()),\n",
    "                        ('LightGBM', LGBMClassifier())], voting='soft')\n",
    "clf.fit(X_train, y_train)\n",
    "y_val_proba = clf.predict_proba(X_val)[:, 1]\n",
    "fpr, tpr, thresholds = roc_curve(y_val, y_val_proba)\n",
    "rmse = np.sqrt(mean_squared_error(y_val, y_val_proba))\n",
    "print(\"AUC=%.3f | RMSE=%.3f\" % (auc(fpr, tpr), rmse))"
   ]
  },
  {
   "cell_type": "code",
   "execution_count": null,
   "metadata": {},
   "outputs": [],
   "source": []
  }
 ],
 "metadata": {
  "kernelspec": {
   "display_name": "Python 3",
   "language": "python",
   "name": "python3"
  },
  "language_info": {
   "codemirror_mode": {
    "name": "ipython",
    "version": 3
   },
   "file_extension": ".py",
   "mimetype": "text/x-python",
   "name": "python",
   "nbconvert_exporter": "python",
   "pygments_lexer": "ipython3",
   "version": "3.6.3"
  }
 },
 "nbformat": 4,
 "nbformat_minor": 2
}
